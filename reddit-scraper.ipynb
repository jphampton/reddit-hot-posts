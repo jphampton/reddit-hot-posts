{
 "cells": [
  {
   "cell_type": "code",
   "execution_count": 1,
   "metadata": {},
   "outputs": [],
   "source": [
    "import requests\n",
    "import json\n",
    "import pandas as pd\n",
    "import time\n",
    "from datetime import datetime"
   ]
  },
  {
   "cell_type": "code",
   "execution_count": 2,
   "metadata": {},
   "outputs": [],
   "source": [
    "URL = \"http://www.reddit.com/hot.json\""
   ]
  },
  {
   "cell_type": "code",
   "execution_count": 3,
   "metadata": {},
   "outputs": [],
   "source": [
    "# Make our first row\n",
    "res = requests.get(URL, headers = {'User-agent': 'JPH Bot 0.1'})\n",
    "time_fetched = pd.Timestamp.utcnow()\n",
    "data = res.json()\n",
    "posts = [child['data'] for child in data['data']['children']]\n",
    "big_df = pd.DataFrame.from_dict(posts)\n",
    "big_df['time_fetched'] = time_fetched"
   ]
  },
  {
   "cell_type": "code",
   "execution_count": 4,
   "metadata": {},
   "outputs": [],
   "source": [
    "# Loop to get 1000 more rows\n",
    "next_page = data['data']['after']\n",
    "\n",
    "\n",
    "for _ in range(0,40):\n",
    "    temp_url = \"http://www.reddit.com/hot.json?after=\"+next_page\n",
    "    temp_res = requests.get(temp_url,headers = {'User-agent': 'JPH Bot 0.1'})\n",
    "    temp_time_fetched = pd.Timestamp.utcnow()\n",
    "    temp_data = temp_res.json()\n",
    "    temp_posts = [child['data'] for child in temp_data['data']['children']]\n",
    "    temp_df = pd.DataFrame.from_dict(temp_posts)\n",
    "    temp_df['time_fetched'] = temp_time_fetched\n",
    "    big_df = pd.concat([big_df, temp_df], ignore_index=True)\n",
    "    next_page = temp_data['data']['after']"
   ]
  },
  {
   "cell_type": "code",
   "execution_count": 5,
   "metadata": {},
   "outputs": [],
   "source": [
    "# Save current data as csv\n",
    "now = str((pd.Timestamp.utcnow().to_datetime64()).astype('datetime64[m]'))\n",
    "big_df.to_csv(now+\".csv\", index=False)"
   ]
  },
  {
   "cell_type": "code",
   "execution_count": 6,
   "metadata": {},
   "outputs": [],
   "source": [
    "# Save a cumulative version\n",
    "cumulative_df = pd.read_csv(\"reddit-cumulative.csv\")\n",
    "cumulative_df = pd.concat([cumulative_df, big_df], ignore_index=True)\n",
    "cumulative_df.to_csv(\"reddit-cumulative.csv\",index=False)"
   ]
  },
  {
   "cell_type": "code",
   "execution_count": 3,
   "metadata": {},
   "outputs": [],
   "source": [
    "def get_subreddit_hot_posts(subreddit,number):\n",
    "    URL = f'https://www.reddit.com/r/{subreddit}/hot.json'\n",
    "    res = requests.get(URL, headers = {'User-agent': 'JPH Bot 0.1'})\n",
    "    time_fetched = pd.Timestamp.utcnow()\n",
    "    data = res.json()\n",
    "    posts = [child['data'] for child in data['data']['children']]\n",
    "    big_df = pd.DataFrame.from_dict(posts)\n",
    "    big_df['time_fetched'] = time_fetched\n",
    "    next_page = data['data']['after']\n",
    "    for i in range(number):\n",
    "        temp_url = URL + f\"?after={next_page}\"\n",
    "        temp_res = requests.get(temp_url, headers = {'User-agent':'JPH Bot 0.1'})\n",
    "        temp_time_fetched = pd.Timestamp.utcnow()\n",
    "        temp_data = temp_res.json()\n",
    "        temp_posts = [child['data'] for child in temp_data['data']['children']]\n",
    "        temp_df = pd.DataFrame.from_dict(temp_posts)\n",
    "        temp_df['time_fetched'] = temp_time_fetched\n",
    "        big_df = pd.concat([big_df, temp_df], ignore_index = True)\n",
    "        next_page = temp_data['data']['after']\n",
    "    # Record our dataframe using current time and subreddit\n",
    "    big_df.to_csv(f\"{subreddit}-{time_fetched}.csv\", index=False)\n",
    "    # Merge with cumulative subreddit data\n",
    "    cumulative_subreddit_df = pd.read_csv(f\"{subreddit}-cumulative.csv\")\n",
    "    cumulative_subreddit_df = pd.concat([cumulative_subreddit_df, big_df], ignore_index=True)\n",
    "    cumulative_subreddit_df.to_csv(f\"{subreddit}-cumulative.csv\", index=False)"
   ]
  },
  {
   "cell_type": "code",
   "execution_count": 4,
   "metadata": {},
   "outputs": [],
   "source": [
    "def initialize_cumulative_csvs(subreddit_list):\n",
    "    for subreddit in subreddit_list:\n",
    "        URL = f'https://www.reddit.com/r/{subreddit}/hot.json'\n",
    "        res = requests.get(URL, headers = {'User-agent': 'JPH Bot 0.1'})\n",
    "        time_fetched = pd.Timestamp.utcnow()\n",
    "        data = res.json()\n",
    "        posts = [child['data'] for child in data['data']['children']]\n",
    "        big_df = pd.DataFrame.from_dict(posts)\n",
    "        big_df['time_fetched'] = time_fetched\n",
    "        next_page = data['data']['after']\n",
    "        big_df.to_csv(f\"{subreddit}-cumulative.csv\", index=False)\n",
    "        big_df.to_csv(f\"{subreddit}-{time_fetched}.csv\", index=False)"
   ]
  },
  {
   "cell_type": "code",
   "execution_count": 5,
   "metadata": {},
   "outputs": [],
   "source": [
    "def scrape_subreddits(subreddit_list, num):\n",
    "    for subreddit in subreddit_list:\n",
    "        get_subreddit_hot_posts(subreddit, num)"
   ]
  },
  {
   "cell_type": "code",
   "execution_count": 6,
   "metadata": {},
   "outputs": [],
   "source": [
    "subreddit_list = ['news',\n",
    " 'AskReddit',\n",
    " 'worldnews',\n",
    " 'pics',\n",
    " 'funny',\n",
    " 'videos',\n",
    " 'gaming',\n",
    " 'gifs',\n",
    " 'mildlyinteresting',\n",
    " 'MemeEconomy']"
   ]
  },
  {
   "cell_type": "code",
   "execution_count": 11,
   "metadata": {},
   "outputs": [],
   "source": [
    "# Only run this once (for each unique subreddit)\n",
    "#initialize_cumulative_csvs(subreddit_list)"
   ]
  },
  {
   "cell_type": "code",
   "execution_count": 7,
   "metadata": {},
   "outputs": [],
   "source": [
    "scrape_subreddits(subreddit_list, 40)"
   ]
  },
  {
   "cell_type": "code",
   "execution_count": null,
   "metadata": {},
   "outputs": [],
   "source": []
  }
 ],
 "metadata": {
  "kernelspec": {
   "display_name": "Python 3",
   "language": "python",
   "name": "python3"
  },
  "language_info": {
   "codemirror_mode": {
    "name": "ipython",
    "version": 3
   },
   "file_extension": ".py",
   "mimetype": "text/x-python",
   "name": "python",
   "nbconvert_exporter": "python",
   "pygments_lexer": "ipython3",
   "version": "3.6.4"
  },
  "varInspector": {
   "cols": {
    "lenName": 16,
    "lenType": 16,
    "lenVar": 40
   },
   "kernels_config": {
    "python": {
     "delete_cmd_postfix": "",
     "delete_cmd_prefix": "del ",
     "library": "var_list.py",
     "varRefreshCmd": "print(var_dic_list())"
    },
    "r": {
     "delete_cmd_postfix": ") ",
     "delete_cmd_prefix": "rm(",
     "library": "var_list.r",
     "varRefreshCmd": "cat(var_dic_list()) "
    }
   },
   "types_to_exclude": [
    "module",
    "function",
    "builtin_function_or_method",
    "instance",
    "_Feature"
   ],
   "window_display": false
  }
 },
 "nbformat": 4,
 "nbformat_minor": 2
}
