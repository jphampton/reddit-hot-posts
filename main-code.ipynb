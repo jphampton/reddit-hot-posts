{
 "cells": [
  {
   "cell_type": "markdown",
   "metadata": {
    "focus": false,
    "id": "69b9a648-bcc7-490d-9f9b-ea244d156bd6"
   },
   "source": [
    "# Using Reddit's API for Predicting Comments"
   ]
  },
  {
   "cell_type": "markdown",
   "metadata": {
    "ExecuteTime": {
     "end_time": "2017-10-23T19:28:02.619411Z",
     "start_time": "2017-10-23T19:28:02.600856Z"
    }
   },
   "source": [
    "In this project, we will practice two major skills. Collecting data via an API request and then building a binary predictor.\n",
    "\n",
    "As we discussed in week 2, and earlier today, there are two components to starting a data science problem: the problem statement, and acquiring the data.\n",
    "\n",
    "For this article, your problem statement will be: _What characteristics of a post on Reddit contribute most to the overall interaction (as measured by number of comments)?_\n",
    "\n",
    "Your method for acquiring the data will be scraping the 'hot' threads as listed on the [Reddit homepage](https://www.reddit.com/). You'll acquire _AT LEAST FOUR_ pieces of information about each thread:\n",
    "1. The title of the thread\n",
    "2. The subreddit that the thread corresponds to\n",
    "3. The length of time it has been up on Reddit\n",
    "4. The number of comments on the thread\n",
    "\n",
    "Once you've got the data, you will build a classification model that, using Natural Language Processing and any other relevant features, predicts whether or not a given Reddit post will have above or below the _median_ number of comments.\n",
    "\n",
    "**BONUS PROBLEMS**\n",
    "1. If creating a logistic regression, GridSearch Ridge and Lasso for this model and report the best hyperparameter values.\n",
    "1. Scrape the actual text of the threads using Selenium (you'll learn about this in Webscraping II).\n",
    "2. Write the actual article that you're pitching and turn it into a blog post that you host on your personal website."
   ]
  },
  {
   "cell_type": "markdown",
   "metadata": {
    "focus": false,
    "id": "a948d79c-5527-4c0d-ab23-f5d43ce72056"
   },
   "source": [
    "### Scraping Thread Info from Reddit.com"
   ]
  },
  {
   "cell_type": "markdown",
   "metadata": {},
   "source": [
    "#### Set up a request (using requests) to the URL below. \n",
    "\n",
    "*NOTE*: Reddit will throw a [429 error](https://httpstatuses.com/429) when using the following code:\n",
    "```python\n",
    "res = requests.get(URL)\n",
    "```\n",
    "\n",
    "This is because Reddit has throttled python's default user agent. You'll need to set a custom `User-agent` to get your request to work.\n",
    "```python\n",
    "res = requests.get(URL, headers={'User-agent': 'YOUR NAME Bot 0.1'})\n",
    "```"
   ]
  },
  {
   "cell_type": "code",
   "execution_count": 1,
   "metadata": {},
   "outputs": [
    {
     "name": "stdout",
     "output_type": "stream",
     "text": [
      "[nltk_data] Downloading package wordnet to\n",
      "[nltk_data]     /Users/jameshampton/nltk_data...\n",
      "[nltk_data]   Package wordnet is already up-to-date!\n"
     ]
    }
   ],
   "source": [
    "from sklearn.metrics import roc_auc_score\n",
    "import time, datetime\n",
    "import requests\n",
    "import json\n",
    "import pandas as pd\n",
    "import time\n",
    "from datetime import datetime\n",
    "import nltk\n",
    "nltk.download('wordnet')\n",
    "\n",
    "import string\n",
    "\n",
    "from sklearn.model_selection import train_test_split, GridSearchCV\n",
    "from sklearn.linear_model import LogisticRegression\n",
    "from sklearn.pipeline import Pipeline\n",
    "from sklearn.feature_extraction.text import CountVectorizer, TfidfVectorizer\n",
    "from sklearn.naive_bayes import MultinomialNB, BernoulliNB, GaussianNB\n",
    "from sklearn.tree import DecisionTreeClassifier\n",
    "\n",
    "from sklearn.neighbors import KNeighborsClassifier\n",
    "from sklearn.model_selection import GridSearchCV\n",
    "\n",
    "import numpy as np\n",
    "\n",
    "from sklearn import svm\n",
    "\n",
    "from sklearn.metrics import confusion_matrix\n",
    "import matplotlib.pyplot as plt\n",
    "import seaborn as sns\n",
    "from sklearn.ensemble import BaggingClassifier, RandomForestClassifier, ExtraTreesClassifier\n",
    "%matplotlib inline"
   ]
  },
  {
   "cell_type": "markdown",
   "metadata": {},
   "source": [
    "# Load CSV\n",
    "\n",
    "We load our cumulative csv and drop duplicated posts, since the same post can show up on scrapes from different days."
   ]
  },
  {
   "cell_type": "code",
   "execution_count": 163,
   "metadata": {},
   "outputs": [],
   "source": [
    "cumulative_df = pd.read_csv(\"reddit-cumulative.csv\")\n",
    "\n",
    "cumulative_df = cumulative_df.sort_values(by='num_comments', ascending=False)\n",
    "\n",
    "cumulative_df = cumulative_df.drop_duplicates(subset='id')"
   ]
  },
  {
   "cell_type": "markdown",
   "metadata": {
    "focus": false,
    "id": "04563b69-f7b6-466f-9d65-fc62c9ddee6a"
   },
   "source": [
    "## Predicting comments using Random Forests + Another Classifier"
   ]
  },
  {
   "cell_type": "markdown",
   "metadata": {
    "focus": false,
    "id": "c7631f51-07f2-4c79-a093-3e9bc7849a48"
   },
   "source": [
    "#### We want to predict a binary variable - whether the number of comments was low or high. Compute the median number of comments and create a new binary variable that is true when the number of comments is high (above the median)\n",
    "\n",
    "We could also perform Linear Regression (or any regression) to predict the number of comments here. Instead, we are going to convert this into a _binary_ classification problem, by predicting two classes, HIGH vs LOW number of comments.\n",
    "\n",
    "While performing regression may be better, performing classification may help remove some of the noise of the extremely popular threads. We don't _have_ to choose the `median` as the splitting point - we could also split on the 75th percentile or any other reasonable breaking point.\n",
    "\n",
    "In fact, the ideal scenario may be to predict many levels of comment numbers. "
   ]
  },
  {
   "cell_type": "markdown",
   "metadata": {},
   "source": [
    "# General Analysis\n",
    "\n",
    "We'll begin our analysis of the reddit \"hot\" page posts by loading our cumulative csv.  We'll clean it up a bit, maybe put in some interesting features, and then we'll do some EDA.  After looking at the data, we'll get into model building and hyperparameter tuning.  Once we wrap up the general analysis, we'll dive into some subreddit-specific analysis."
   ]
  },
  {
   "cell_type": "code",
   "execution_count": 164,
   "metadata": {
    "focus": false,
    "id": "c20d2498-151c-44c3-a453-3a333c79a0ac"
   },
   "outputs": [],
   "source": [
    "# First, define our median\n",
    "\n",
    "median = cumulative_df['num_comments'].median()\n",
    "y = (cumulative_df['num_comments']>median).astype(int)\n"
   ]
  },
  {
   "cell_type": "code",
   "execution_count": 165,
   "metadata": {},
   "outputs": [],
   "source": [
    "cumulative_df['age'] = cumulative_df['time_fetched'].astype('datetime64[s]') - cumulative_df['created_utc'].astype('datetime64[s]')\n",
    "\n",
    "cumulative_df['age_s'] = cumulative_df['age'].astype('timedelta64[s]')\n",
    "cumulative_df['age_mins'] = cumulative_df['age'].astype('timedelta64[m]')\n",
    "cumulative_df['age_hrs'] = cumulative_df['age'].astype('timedelta64[h]')\n",
    "\n",
    "X = pd.get_dummies(cumulative_df[['age_hrs','age_mins','age_s','subreddit','title']],columns = ['subreddit'])\n",
    "\n",
    "X_train, X_test, y_train, y_test = train_test_split(X,y)"
   ]
  },
  {
   "cell_type": "code",
   "execution_count": 160,
   "metadata": {},
   "outputs": [
    {
     "data": {
      "text/plain": [
       "dtype('float64')"
      ]
     },
     "execution_count": 160,
     "metadata": {},
     "output_type": "execute_result"
    }
   ],
   "source": [
    "cumulative_df['age_mins'].dtype"
   ]
  },
  {
   "cell_type": "code",
   "execution_count": 161,
   "metadata": {},
   "outputs": [],
   "source": [
    "def leveller(train, test):\n",
    "    tr_feats = train.columns\n",
    "    te_feats = test.columns\n",
    "    for feat in set(tr_feats)-set(te_feats):\n",
    "        test[feat]=0\n",
    "    return train, test[tr_feats]"
   ]
  },
  {
   "cell_type": "code",
   "execution_count": 166,
   "metadata": {
    "scrolled": true
   },
   "outputs": [
    {
     "name": "stdout",
     "output_type": "stream",
     "text": [
      "(3781, 8876) (1261, 8876)\n",
      "(3781, 10217) (1261, 10217)\n"
     ]
    },
    {
     "data": {
      "text/plain": [
       "0.5107057890563045"
      ]
     },
     "execution_count": 166,
     "metadata": {},
     "output_type": "execute_result"
    }
   ],
   "source": [
    "# Vectorize titles, then add them back into the feature dataframe.  Fit an untuned logistic model to get a baseline.\n",
    "cvec = CountVectorizer()\n",
    "\n",
    "X_train_counts = pd.DataFrame(cvec.fit_transform(X_train['title']).todense(), columns = [\"t_\"+w for w in cvec.get_feature_names()], index = X_train.index)\n",
    "X_test_counts = pd.DataFrame(cvec.transform(X_test['title']).todense(), columns = [\"t_\" + w for w in cvec.get_feature_names()], index=X_test.index)\n",
    "\n",
    "print(X_train_counts.shape, X_test_counts.shape)\n",
    "\n",
    "X_train_full = pd.concat([X_train.drop(labels = ['title'], axis=1),X_train_counts],axis=1)\n",
    "X_test_full = pd.concat([X_test.drop(labels = ['title'],axis=1),X_test_counts],axis=1)\n",
    "\n",
    "print(X_train_full.shape, X_test_full.shape)\n",
    "\n",
    "X_train_full, X_test_full = leveller(X_train_full, X_test_full)\n",
    "\n",
    "model = LogisticRegression().fit(X_train_full,y_train)\n",
    "model.score(X_test_full,y_test)"
   ]
  },
  {
   "cell_type": "markdown",
   "metadata": {},
   "source": [
    "Yikes, that's terrible.  Let's gridsearch to tune hyperparameters and prune our age features."
   ]
  },
  {
   "cell_type": "markdown",
   "metadata": {},
   "source": [
    "### Age features\n",
    "\n",
    "We'll just do some trial-and-error searching here to see which age feature (if any) is worth keeping around"
   ]
  },
  {
   "cell_type": "code",
   "execution_count": 11,
   "metadata": {},
   "outputs": [
    {
     "data": {
      "text/plain": [
       "({'C': 1.6681005372000557}, 0.6942607775720708, 0.7081681205392546)"
      ]
     },
     "execution_count": 11,
     "metadata": {},
     "output_type": "execute_result"
    }
   ],
   "source": [
    "# Try all age features\n",
    "gs_log = GridSearchCV(LogisticRegression(),{\n",
    "    'C':np.logspace(-6, 2, 10)\n",
    "})\n",
    "\n",
    "gs_log.fit(X_train_full, y_train)\n",
    "gs_log.best_params_, gs_log.best_score_, gs_log.score(X_test_full, y_test)"
   ]
  },
  {
   "cell_type": "code",
   "execution_count": 77,
   "metadata": {},
   "outputs": [
    {
     "data": {
      "text/plain": [
       "0.4964314036478985"
      ]
     },
     "execution_count": 77,
     "metadata": {},
     "output_type": "execute_result"
    }
   ],
   "source": [
    "# Keep age in seconds\n",
    "model = gs_log.fit(X_train_full.drop(['age_hrs', 'age_mins'],axis=1),y_train)\n",
    "gs_log.score(X_test_full.drop(['age_hrs', 'age_mins'],axis=1),y_test)"
   ]
  },
  {
   "cell_type": "code",
   "execution_count": 78,
   "metadata": {},
   "outputs": [
    {
     "data": {
      "text/plain": [
       "0.7137192704203014"
      ]
     },
     "execution_count": 78,
     "metadata": {},
     "output_type": "execute_result"
    }
   ],
   "source": [
    "# Keep age in mins\n",
    "gs_log.fit(X_train_full.drop(['age_s', 'age_hrs'],axis=1),y_train)\n",
    "gs_log.score(X_test_full.drop(['age_s', 'age_hrs'],axis=1),y_test)"
   ]
  },
  {
   "cell_type": "code",
   "execution_count": 80,
   "metadata": {},
   "outputs": [
    {
     "data": {
      "text/plain": [
       "0.711340206185567"
      ]
     },
     "execution_count": 80,
     "metadata": {},
     "output_type": "execute_result"
    }
   ],
   "source": [
    "# Keep age in hrs only\n",
    "gs_log.fit(X_train_full.drop(['age_s', 'age_mins'],axis=1),y_train)\n",
    "gs_log.score(X_test_full.drop(['age_s', 'age_mins'],axis=1),y_test)"
   ]
  },
  {
   "cell_type": "code",
   "execution_count": 79,
   "metadata": {},
   "outputs": [
    {
     "data": {
      "text/plain": [
       "0.6463124504361618"
      ]
     },
     "execution_count": 79,
     "metadata": {},
     "output_type": "execute_result"
    }
   ],
   "source": [
    "# Drop age altogether\n",
    "gs_log.fit(X_train_full.drop(['age_s', 'age_mins','age_hrs'],axis=1),y_train)\n",
    "gs_log.score(X_test_full.drop(['age_s', 'age_mins','age_hrs'],axis=1),y_test)"
   ]
  },
  {
   "cell_type": "markdown",
   "metadata": {},
   "source": [
    "It looks like there's little difference in keeping age in mins vs hrs.  We'll keep in hours.\n",
    "\n",
    "We'll want a fully-featured train and test set.  This gets a bit complicated, since we have some features that need to be dummied, some features that need to be vectorized, and some features that need to be left alone.  This next cell is a bit complicated, but note in particular the decision to prefix the features in the Vectorizer call.  This is needed in case one of the words in the title is identical to one of our feature names.  "
   ]
  },
  {
   "cell_type": "code",
   "execution_count": 167,
   "metadata": {},
   "outputs": [
    {
     "name": "stdout",
     "output_type": "stream",
     "text": [
      "(3781, 8838) (1261, 8838)\n",
      "(3781, 10177) (1261, 10177)\n"
     ]
    }
   ],
   "source": [
    "X = pd.get_dummies(cumulative_df[['age_hrs','subreddit','title']],columns = ['subreddit'])\n",
    "\n",
    "X_train, X_test, y_train, y_test = train_test_split(X,y)\n",
    "\n",
    "cvec = CountVectorizer()\n",
    "\n",
    "X_train_counts = pd.DataFrame(cvec.fit_transform(X_train['title']).todense(), columns = [\"t_\"+w for w in cvec.get_feature_names()], index = X_train.index)\n",
    "X_test_counts = pd.DataFrame(cvec.transform(X_test['title']).todense(), columns = [\"t_\" + w for w in cvec.get_feature_names()], index=X_test.index)\n",
    "\n",
    "print(X_train_counts.shape, X_test_counts.shape)\n",
    "\n",
    "X_train_full = pd.concat([X_train.drop(labels = ['title'], axis=1),X_train_counts],axis=1)\n",
    "X_test_full = pd.concat([X_test.drop(labels = ['title'],axis=1),X_test_counts],axis=1)\n",
    "\n",
    "print(X_train_full.shape, X_test_full.shape)\n",
    "\n",
    "X_train_full, X_test_full = leveller(X_train_full, X_test_full)"
   ]
  },
  {
   "cell_type": "markdown",
   "metadata": {},
   "source": [
    "# Visualizing Subreddit Information\n",
    "Common sense suggests that more popular subreddits will appear more frequently in collections of top posts--this will be borne out in our logistic modelling later.\n",
    "\n",
    "Let's take a look at which subreddits appear in the top posts.  To make the visualization easier to interpret, we'll only consider posts in the top 10% by number of comments."
   ]
  },
  {
   "cell_type": "code",
   "execution_count": 169,
   "metadata": {},
   "outputs": [
    {
     "data": {
      "image/png": "[encoded data removed]",
      "text/plain": [
       "<matplotlib.figure.Figure at 0x1a46ca3f28>"
      ]
     },
     "metadata": {},
     "output_type": "display_data"
    }
   ],
   "source": [
    "plt.figure(figsize = (12,10))\n",
    "cumulative_df.groupby('subreddit')['num_comments'].max().sort_values().tail(30).plot(kind='barh')\n",
    "plt.title('Top 30 subreddits by Most-Commented Post')\n",
    "plt.xlabel('Comments on Most-Commented Post')\n",
    "plt.ylabel(\"\")\n",
    "plt.show()"
   ]
  },
  {
   "cell_type": "code",
   "execution_count": 171,
   "metadata": {},
   "outputs": [
    {
     "data": {
      "image/png": "[encoded data removed]",
      "text/plain": [
       "<matplotlib.figure.Figure at 0x1a20b42fd0>"
      ]
     },
     "metadata": {},
     "output_type": "display_data"
    }
   ],
   "source": [
    "# Let's see what subreddits appear consistently.\n",
    "plt.figure(figsize = (12,10))\n",
    "cumulative_df.sort_values(by='num_comments', ascending=False).head(int(np.ceil(cumulative_df.shape[0]*0.1))).groupby('subreddit').size().sort_values().tail(10).plot(kind='barh')\n",
    "plt.title(\"Top 10 Subreddits in the Top 10% Most-Commented Posts\")\n",
    "plt.xlabel(\"Number of Posts in Top 10%\")\n",
    "plt.ylabel(\"\")\n",
    "plt.show()"
   ]
  },
  {
   "cell_type": "markdown",
   "metadata": {},
   "source": [
    "This is a *very* interesting graph, because it identifies subreddits that consistently appear among the hottest posts with the most comments.  After we finish analyzing the general reddit data, we'll use the subreddits appearing in this graph to guide our deeper dive into per-subreddit analysis."
   ]
  },
  {
   "cell_type": "code",
   "execution_count": 340,
   "metadata": {},
   "outputs": [
    {
     "data": {
      "image/png": "[encoded data removed]",
      "text/plain": [
       "<matplotlib.figure.Figure at 0x1a30a2f9e8>"
      ]
     },
     "metadata": {},
     "output_type": "display_data"
    }
   ],
   "source": [
    "# This one's just for fun, to see how long the tail is for the previous graph.\n",
    "plt.figure(figsize = (12,10))\n",
    "cumulative_df.sort_values(by='num_comments', ascending=False).head(100).groupby('subreddit').size().sort_values().plot(kind='barh')\n",
    "plt.title(\"Subreddits Appearing in the Top 100 Most-Commented Posts\")\n",
    "plt.show()"
   ]
  },
  {
   "cell_type": "code",
   "execution_count": 172,
   "metadata": {},
   "outputs": [
    {
     "data": {
      "image/png": "[encoded data removed]",
      "text/plain": [
       "<matplotlib.figure.Figure at 0x1a3838b668>"
      ]
     },
     "metadata": {},
     "output_type": "display_data"
    }
   ],
   "source": [
    "# What are the biggest subreddits by subscribers?\n",
    "plt.figure(figsize = (12,10))\n",
    "cumulative_df.groupby('subreddit')['subreddit_subscribers'].max().sort_values().tail(30).plot(kind='barh')\n",
    "plt.title('Subreddits by Subscriber Count')\n",
    "plt.xlabel('Subscribers (in 10s of millions)')\n",
    "plt.ylabel(\"\")\n",
    "plt.show()"
   ]
  },
  {
   "cell_type": "markdown",
   "metadata": {},
   "source": [
    "# Naive Bayes\n",
    "\n",
    "Here we're just getting practice implementing Naive Bayes classifiers.  We'll fit both Bernoulli and Multinomial classifiers."
   ]
  },
  {
   "cell_type": "code",
   "execution_count": 19,
   "metadata": {},
   "outputs": [
    {
     "data": {
      "text/plain": [
       "{'alpha': 0.2705263157894737}"
      ]
     },
     "execution_count": 19,
     "metadata": {},
     "output_type": "execute_result"
    }
   ],
   "source": [
    "gs_bnb = GridSearchCV(BernoulliNB(),{\n",
    "    'alpha':np.linspace(0.01,1,20)\n",
    "})\n",
    "gs_bnb.fit(X_train_full, y_train)\n",
    "bnb_model = gs_bnb.best_estimator_\n",
    "gs_bnb.best_params_"
   ]
  },
  {
   "cell_type": "code",
   "execution_count": 20,
   "metadata": {},
   "outputs": [
    {
     "data": {
      "text/plain": [
       "0.6455194290245837"
      ]
     },
     "execution_count": 20,
     "metadata": {},
     "output_type": "execute_result"
    }
   ],
   "source": [
    "gs_bnb.score(X_test_full, y_test)"
   ]
  },
  {
   "cell_type": "code",
   "execution_count": 21,
   "metadata": {},
   "outputs": [
    {
     "data": {
      "text/plain": [
       "0.6304520222045995"
      ]
     },
     "execution_count": 21,
     "metadata": {},
     "output_type": "execute_result"
    }
   ],
   "source": [
    "gs_mnb = GridSearchCV(MultinomialNB(), {\n",
    "    'alpha':np.linspace(0.01,10,10)\n",
    "})\n",
    "\n",
    "gs_mnb.fit(X_train_full, y_train)\n",
    "\n",
    "mnb_model= gs_mnb.best_estimator_\n",
    "\n",
    "mnb_model.score(X_test_full,y_test)"
   ]
  },
  {
   "cell_type": "markdown",
   "metadata": {},
   "source": [
    "# Decision Tree Implementation\n",
    "\n",
    "Here we'll implement both a single tree and a tuned single tree.  Later on we'll try out a random forest classifier as well."
   ]
  },
  {
   "cell_type": "code",
   "execution_count": 22,
   "metadata": {},
   "outputs": [
    {
     "data": {
      "text/plain": [
       "(0.9989420788151283, 0.6518636003172086)"
      ]
     },
     "execution_count": 22,
     "metadata": {},
     "output_type": "execute_result"
    }
   ],
   "source": [
    "dt = DecisionTreeClassifier()\n",
    "dt.fit(X_train_full,y_train)\n",
    "dt.score(X_train_full, y_train), dt.score(X_test_full, y_test)"
   ]
  },
  {
   "cell_type": "code",
   "execution_count": 25,
   "metadata": {},
   "outputs": [
    {
     "data": {
      "text/plain": [
       "GridSearchCV(cv=None, error_score='raise',\n",
       "       estimator=DecisionTreeClassifier(class_weight=None, criterion='gini', max_depth=None,\n",
       "            max_features=None, max_leaf_nodes=None,\n",
       "            min_impurity_decrease=0.0, min_impurity_split=None,\n",
       "            min_samples_leaf=1, min_samples_split=2,\n",
       "            min_weight_fraction_leaf=0.0, presort=False, random_state=None,\n",
       "            splitter='best'),\n",
       "       fit_params=None, iid=True, n_jobs=1,\n",
       "       param_grid={'max_depth': [None, 3, 4, 5], 'max_features': array([0.1, 0.2, 0.3, 0.4, 0.5, 0.6, 0.7, 0.8, 0.9, 1. ])},\n",
       "       pre_dispatch='2*n_jobs', refit=True, return_train_score='warn',\n",
       "       scoring=None, verbose=0)"
      ]
     },
     "execution_count": 25,
     "metadata": {},
     "output_type": "execute_result"
    }
   ],
   "source": [
    "gs_dt = GridSearchCV(DecisionTreeClassifier(),{\n",
    "    'max_depth' : [None, 3,4,5],\n",
    "    'max_features':np.linspace(.1,1.0,10)\n",
    "})\n",
    "gs_dt.fit(X_train_full, y_train)"
   ]
  },
  {
   "cell_type": "code",
   "execution_count": 26,
   "metadata": {},
   "outputs": [
    {
     "data": {
      "text/plain": [
       "(0.6537952922507273, 0.6637589214908802)"
      ]
     },
     "execution_count": 26,
     "metadata": {},
     "output_type": "execute_result"
    }
   ],
   "source": [
    "gs_dt.best_score_, gs_dt.score(X_test_full, y_test)"
   ]
  },
  {
   "cell_type": "code",
   "execution_count": 27,
   "metadata": {},
   "outputs": [],
   "source": [
    "dt_best = gs_dt.best_estimator_"
   ]
  },
  {
   "cell_type": "markdown",
   "metadata": {},
   "source": [
    "# ROC Plotting:\n",
    "\n",
    "To get a better idea of how our classifiers compare to one another, we'll plot some RoC curves and see if any model appears to be preferable.  We'll build our RoC plotter from scratch."
   ]
  },
  {
   "cell_type": "code",
   "execution_count": 13,
   "metadata": {},
   "outputs": [],
   "source": [
    "def get_preds(model, X_test, thresh):\n",
    "    preds = pd.Series([p[1] for p in model.predict_proba(X_test)])\n",
    "    return preds.map(lambda x: 1 if x >= thresh else 0)"
   ]
  },
  {
   "cell_type": "code",
   "execution_count": 14,
   "metadata": {},
   "outputs": [],
   "source": [
    "def get_sens_spec(y_true, predictions):\n",
    "    cm = confusion_matrix(y_true, predictions)\n",
    "    TP = cm[1][1]\n",
    "    TN = cm[0][0]\n",
    "    FP = cm[0][1]       \n",
    "    FN = cm[1][0]\n",
    "    # return Sensitivity, Specificity\n",
    "    return (TP/(TP+FN)), (TN/(FP+TN))"
   ]
  },
  {
   "cell_type": "code",
   "execution_count": 15,
   "metadata": {},
   "outputs": [],
   "source": [
    "def get_roc_values(model, X_test, y_test):\n",
    "    # Construct parameter space\n",
    "    probs = np.linspace(0,1,101)\n",
    "    sens = []\n",
    "    spec = []\n",
    "    for prob in probs:\n",
    "        preds = get_preds(model, X_test, prob)\n",
    "        t_sens, t_spec = get_sens_spec(y_test, preds)\n",
    "        sens.append(t_sens)\n",
    "        spec.append(t_spec)\n",
    "    return sens, spec"
   ]
  },
  {
   "cell_type": "code",
   "execution_count": 16,
   "metadata": {},
   "outputs": [],
   "source": [
    "def add_roc(ax, model, label,X_test, y_test):\n",
    "    sens, spec = get_roc_values(model, X_test, y_test)\n",
    "    x_vals = [1-s for s in spec]\n",
    "    ax.plot(x_vals, sens, label = label)"
   ]
  },
  {
   "cell_type": "code",
   "execution_count": 17,
   "metadata": {},
   "outputs": [],
   "source": [
    "def roc_plotter(model_list,label_list, X_test, y_test, title):\n",
    "    plt.close()\n",
    "    plt.figure(figsize=(15,12))\n",
    "    ax = plt.gca()\n",
    "    ax.set_xlim([0,1])\n",
    "    ax.set_ylim([0,1])\n",
    "    for idx, model in enumerate(model_list):\n",
    "        add_roc(ax, model, label_list[idx], X_test, y_test)\n",
    "    ax.plot([0,1], [0,1], linestyle = '--', color = \"red\",)\n",
    "    plt.legend()\n",
    "    plt.title(title)\n",
    "    plt.show()"
   ]
  },
  {
   "cell_type": "markdown",
   "metadata": {},
   "source": [
    "With all that done, let's take a look at our RoC curves:"
   ]
  },
  {
   "cell_type": "code",
   "execution_count": 33,
   "metadata": {},
   "outputs": [
    {
     "data": {
      "image/png": "[encoded data removed]",
      "text/plain": [
       "<matplotlib.figure.Figure at 0x1a1bac6f60>"
      ]
     },
     "metadata": {},
     "output_type": "display_data"
    }
   ],
   "source": [
    "roc_plotter([best_model,mnb_model,bnb_model, gs_dt.best_estimator_],['Logistic', 'MultinomialNB', 'BernoulliNB', 'Decision Tree'], X_test_full, y_test,'AUC-ROC | subreddit, title, age')"
   ]
  },
  {
   "cell_type": "markdown",
   "metadata": {},
   "source": [
    "Logistic looks to have a pretty clear advantage over the others.  "
   ]
  },
  {
   "cell_type": "markdown",
   "metadata": {},
   "source": [
    "# Feature Selection\n",
    "\n",
    "In the next section, we'll redo some of the previous analysis but without doing any NLP on the post titles.  Then we'll compare our results to our earlier work and settle on a model."
   ]
  },
  {
   "cell_type": "markdown",
   "metadata": {},
   "source": [
    "# Age and Subreddit only"
   ]
  },
  {
   "cell_type": "code",
   "execution_count": 212,
   "metadata": {},
   "outputs": [],
   "source": [
    "# Slice out the vectorized title features.  Our \"t_\" prefix comes in handy here.\n",
    "\n",
    "features = [col for col in X_train_full.columns if not col.startswith(\"t_\")]\n",
    "X_train_as, X_test_as = X_train_full[features].values, X_test_full[features].values"
   ]
  },
  {
   "cell_type": "markdown",
   "metadata": {},
   "source": [
    "### Logistic Regression implementation"
   ]
  },
  {
   "cell_type": "code",
   "execution_count": 213,
   "metadata": {},
   "outputs": [
    {
     "data": {
      "text/plain": [
       "({'C': 5.455594781168514}, 0.7541633624107851)"
      ]
     },
     "execution_count": 213,
     "metadata": {},
     "output_type": "execute_result"
    }
   ],
   "source": [
    "as_log = GridSearchCV(LogisticRegression(), {\n",
    "    'C' : np.logspace(-6, 2, 20)\n",
    "})\n",
    "\n",
    "as_log.fit(X_train_as, y_train)\n",
    "as_log.best_params_, as_log.score(X_test_as, y_test)"
   ]
  },
  {
   "cell_type": "code",
   "execution_count": 348,
   "metadata": {},
   "outputs": [],
   "source": [
    "# This bit of code is helpful for looking at the coefficients of the Logistic function as well as the features they correspond to.\n",
    "coefs = pd.DataFrame(as_log.best_estimator_.coef_, columns = features, index=['coefs']).T.sort_values(by='coefs', ascending=False)"
   ]
  },
  {
   "cell_type": "markdown",
   "metadata": {},
   "source": [
    "### Decision Tree Implementation"
   ]
  },
  {
   "cell_type": "code",
   "execution_count": 88,
   "metadata": {},
   "outputs": [
    {
     "data": {
      "text/plain": [
       "0.6907216494845361"
      ]
     },
     "execution_count": 88,
     "metadata": {},
     "output_type": "execute_result"
    }
   ],
   "source": [
    "as_dt = GridSearchCV(DecisionTreeClassifier(),{\n",
    "    'max_depth' : [None, 3,4,5],\n",
    "    'max_features':np.linspace(.1,1,10)\n",
    "})\n",
    "\n",
    "as_dt.fit(X_train_as, y_train)\n",
    "as_dt.score(X_test_as, y_test)"
   ]
  },
  {
   "cell_type": "markdown",
   "metadata": {},
   "source": [
    "### Naive Bayes Implementation"
   ]
  },
  {
   "cell_type": "code",
   "execution_count": 89,
   "metadata": {},
   "outputs": [
    {
     "data": {
      "text/plain": [
       "({'alpha': 1.438449888287663}, 0.7010309278350515)"
      ]
     },
     "execution_count": 89,
     "metadata": {},
     "output_type": "execute_result"
    }
   ],
   "source": [
    "gs_bnb = GridSearchCV(BernoulliNB(),{\n",
    "    'alpha':np.logspace(-5,2,20)\n",
    "})\n",
    "gs_bnb.fit(X_train_as, y_train)\n",
    "bnb_model = gs_bnb.best_estimator_\n",
    "gs_bnb.best_params_, gs_bnb.score(X_test_as, y_test)"
   ]
  },
  {
   "cell_type": "code",
   "execution_count": 91,
   "metadata": {},
   "outputs": [
    {
     "name": "stderr",
     "output_type": "stream",
     "text": [
      "/anaconda3/lib/python3.6/site-packages/sklearn/naive_bayes.py:472: UserWarning: alpha too small will result in numeric errors, setting alpha = 1.0e-10\n",
      "  'setting alpha = %.1e' % _ALPHA_MIN)\n",
      "/anaconda3/lib/python3.6/site-packages/sklearn/naive_bayes.py:472: UserWarning: alpha too small will result in numeric errors, setting alpha = 1.0e-10\n",
      "  'setting alpha = %.1e' % _ALPHA_MIN)\n",
      "/anaconda3/lib/python3.6/site-packages/sklearn/naive_bayes.py:472: UserWarning: alpha too small will result in numeric errors, setting alpha = 1.0e-10\n",
      "  'setting alpha = %.1e' % _ALPHA_MIN)\n",
      "/anaconda3/lib/python3.6/site-packages/sklearn/naive_bayes.py:472: UserWarning: alpha too small will result in numeric errors, setting alpha = 1.0e-10\n",
      "  'setting alpha = %.1e' % _ALPHA_MIN)\n"
     ]
    },
    {
     "data": {
      "text/plain": [
       "0.7057890563045203"
      ]
     },
     "execution_count": 91,
     "metadata": {},
     "output_type": "execute_result"
    }
   ],
   "source": [
    "gs_mnb = GridSearchCV(MultinomialNB(), {\n",
    "    'alpha':np.linspace(0,10,10)\n",
    "})\n",
    "\n",
    "gs_mnb.fit(X_train_as, y_train)\n",
    "\n",
    "mnb_model= gs_mnb.best_estimator_\n",
    "\n",
    "mnb_model.score(X_test_as,y_test)"
   ]
  },
  {
   "cell_type": "markdown",
   "metadata": {},
   "source": [
    "## Model comparison\n",
    "\n",
    "As before, we'll plot the roc curve for each model on the same axes and look for a clear winner."
   ]
  },
  {
   "cell_type": "code",
   "execution_count": 97,
   "metadata": {},
   "outputs": [
    {
     "data": {
      "image/png": "[encoded data removed]",
      "text/plain": [
       "<matplotlib.figure.Figure at 0x1a5894c5f8>"
      ]
     },
     "metadata": {},
     "output_type": "display_data"
    }
   ],
   "source": [
    "roc_plotter([as_log.best_estimator_,mnb_model,bnb_model, as_dt.best_estimator_],['Logistic', 'MultinomialNB', 'BernoulliNB', 'Decision Tree'], X_test_as, y_test, 'AUC-ROC | age, subreddit')"
   ]
  },
  {
   "cell_type": "markdown",
   "metadata": {},
   "source": [
    "## Summary\n",
    "\n",
    "It looks like Logistic regression is superior to Bayesian and Decision tree models.  We'll compare against various ensemble methods later, but for singular models, Logistic looks to be the best performer."
   ]
  },
  {
   "cell_type": "markdown",
   "metadata": {},
   "source": [
    "# Support Vectors\n",
    "\n",
    "This section was mostly just for experience implementing support vectors.  They didn't do to well, and they took forever to train.  We might revisit this in the future."
   ]
  },
  {
   "cell_type": "code",
   "execution_count": 48,
   "metadata": {},
   "outputs": [
    {
     "name": "stdout",
     "output_type": "stream",
     "text": [
      "[LibSVM]CPU times: user 13min 24s, sys: 2.6 s, total: 13min 27s\n",
      "Wall time: 13min 29s\n"
     ]
    }
   ],
   "source": [
    "%%time\n",
    "sv = svm.SVC(kernel = 'rbf', probability = True, verbose = 1)\n",
    "sv.fit(X_train_full, y_train)\n",
    "sv.score(X_test_full, y_test)"
   ]
  },
  {
   "cell_type": "code",
   "execution_count": 49,
   "metadata": {},
   "outputs": [
    {
     "name": "stdout",
     "output_type": "stream",
     "text": [
      "0.6352101506740682\n",
      "CPU times: user 46.1 s, sys: 67.8 ms, total: 46.2 s\n",
      "Wall time: 46.2 s\n"
     ]
    }
   ],
   "source": [
    "%%time\n",
    "print(sv.score(X_test_full, y_test))"
   ]
  },
  {
   "cell_type": "code",
   "execution_count": 16,
   "metadata": {},
   "outputs": [
    {
     "name": "stdout",
     "output_type": "stream",
     "text": [
      "CPU times: user 3min 30s, sys: 440 ms, total: 3min 30s\n",
      "Wall time: 3min 31s\n"
     ]
    }
   ],
   "source": [
    "%%time\n",
    "\n",
    "sv_lin = svm.SVC(kernel='linear')\n",
    "sv_lin.fit(X_train_full, y_train)\n",
    "sv_lin.score(X_test_full, y_test)"
   ]
  },
  {
   "cell_type": "code",
   "execution_count": 17,
   "metadata": {},
   "outputs": [
    {
     "data": {
      "text/plain": [
       "0.6788263283108644"
      ]
     },
     "execution_count": 17,
     "metadata": {},
     "output_type": "execute_result"
    }
   ],
   "source": [
    "sv_lin.score(X_test_full, y_test)"
   ]
  },
  {
   "cell_type": "code",
   "execution_count": null,
   "metadata": {},
   "outputs": [],
   "source": [
    "# sv = svm.SVC(kernel = 'rbf')\n",
    "# params = dict([('C',np.logspace(-5,2,10)), ('gamma',np.logspace(-5,2, 10))])\n",
    "# gs_sv = GridSearchCV(sv,params, scoring='accuracy')\n",
    "# gs_sv.fit(X_train_full, y_train)\n",
    "# gs_sv.best_params_, gs_sv.score(X_test_full, y_test, scoring='accuracy')"
   ]
  },
  {
   "cell_type": "markdown",
   "metadata": {},
   "source": [
    "# ROC plotting across feature-sets\n",
    "\n",
    "We'd like to compare our two Logistic models, but there's a bit of a sticky wicket.  We wrote our RoC plotting function assuming that every model used the same train and test set.  There's a few ways to attack this, and the following way--while not being the simplest--was good practice in wrangling matplotplib's pyplot."
   ]
  },
  {
   "cell_type": "code",
   "execution_count": 25,
   "metadata": {},
   "outputs": [],
   "source": [
    "models_to_plot = {\n",
    "    'age, subreddit':as_log.predict_proba(X_test_as),\n",
    "    'age, subreddit, title': gs_log.predict_proba(X_test_full)\n",
    "}\n"
   ]
  },
  {
   "cell_type": "code",
   "execution_count": 27,
   "metadata": {},
   "outputs": [],
   "source": [
    "def another_get_preds(probs, thresh):\n",
    "    preds = pd.Series([p[1] for p in probs])\n",
    "    return preds.map(lambda x: 1 if x >= thresh else 0)"
   ]
  },
  {
   "cell_type": "code",
   "execution_count": 28,
   "metadata": {},
   "outputs": [],
   "source": [
    "def add_another_roc(ax,label, probs, y_true):\n",
    "    thresholds = np.linspace(0,1,101)\n",
    "    sens = []\n",
    "    spec = []\n",
    "    for threshold in thresholds:\n",
    "        preds = another_get_preds(probs, threshold)\n",
    "        t_sens, t_spec = get_sens_spec(y_test, preds)\n",
    "        sens.append(t_sens)\n",
    "        spec.append(t_spec)\n",
    "    ax.plot([1-s for s in spec],sens, label = label)"
   ]
  },
  {
   "cell_type": "code",
   "execution_count": 29,
   "metadata": {},
   "outputs": [],
   "source": [
    "def another_roc_plotter(model_probs_dict, y_test, title):\n",
    "    plt.close()\n",
    "    plt.figure(figsize=(15,12))\n",
    "    ax = plt.gca()\n",
    "    ax.set_xlim([0,1])\n",
    "    ax.set_ylim([0,1])\n",
    "    for model, probs in model_probs_dict.items():\n",
    "        add_another_roc(ax, model, probs, y_test)\n",
    "    ax.plot([0,1], [0,1], linestyle = '--', color = \"red\",)\n",
    "    plt.legend()\n",
    "    plt.title(title)\n",
    "    plt.show()"
   ]
  },
  {
   "cell_type": "markdown",
   "metadata": {},
   "source": [
    "With all that done, let's take a look at our models:"
   ]
  },
  {
   "cell_type": "code",
   "execution_count": 36,
   "metadata": {},
   "outputs": [
    {
     "data": {
      "image/png": "[encoded data removed]",
      "text/plain": [
       "<matplotlib.figure.Figure at 0x1a183385c0>"
      ]
     },
     "metadata": {},
     "output_type": "display_data"
    }
   ],
   "source": [
    "another_roc_plotter(models_to_plot, y_test, 'Logistic Regressions on Varying Features')"
   ]
  },
  {
   "cell_type": "markdown",
   "metadata": {},
   "source": [
    "Title seems to hurt our model!  My interpretation of this result is that many different subreddits with many different topics contribute hot posts to our data set.  If titles convey topic information, and topics are very different across subreddits, we should expect to see titles vary across subreddits.\n",
    "\n",
    "This leads me to wonder: will NLP on title data be more fruitful on a per-subreddit basis?  We'll have to do a lot of work to explore this option.  We'll need to choose our subreddits, scrape data from them, then rerun our analysis on that data."
   ]
  },
  {
   "cell_type": "markdown",
   "metadata": {
    "focus": false,
    "id": "a7afb2c0-d41e-4779-8216-91cd8dd4473f"
   },
   "source": [
    "#### Thought experiment: What is the baseline accuracy for this model?"
   ]
  },
  {
   "cell_type": "markdown",
   "metadata": {
    "focus": false,
    "id": "87a17d3d-b7f4-4747-9f75-f9af1d18a174"
   },
   "source": [
    "## YOUR CODE HERE\n",
    "50%"
   ]
  },
  {
   "cell_type": "markdown",
   "metadata": {
    "focus": false,
    "id": "4fb29de2-5b98-474c-a4ad-5170b72b9aea"
   },
   "source": [
    "#### Create a Random Forest model to predict High/Low number of comments using Sklearn. Start by ONLY using the subreddit as a feature. "
   ]
  },
  {
   "cell_type": "markdown",
   "metadata": {},
   "source": [
    "First, we'll run an untuned Random Forest Classifier and see what kind of performance and computation time we're looking at."
   ]
  },
  {
   "cell_type": "code",
   "execution_count": 38,
   "metadata": {},
   "outputs": [
    {
     "name": "stdout",
     "output_type": "stream",
     "text": [
      "0.9788415763025654 0.6653449643140364\n",
      "CPU times: user 1.83 s, sys: 400 ms, total: 2.23 s\n",
      "Wall time: 2.23 s\n"
     ]
    }
   ],
   "source": [
    "%%time\n",
    "rf = RandomForestClassifier()\n",
    "rf.fit(X_train_full, y_train)\n",
    "print(rf.score(X_train_full, y_train), rf.score(X_test_full, y_test))"
   ]
  },
  {
   "cell_type": "markdown",
   "metadata": {},
   "source": [
    "This seems pretty overfit.  Let's cross-validated and gridsearch over some parameters."
   ]
  },
  {
   "cell_type": "code",
   "execution_count": 39,
   "metadata": {},
   "outputs": [
    {
     "name": "stdout",
     "output_type": "stream",
     "text": [
      "Fitting 3 folds for each of 18 candidates, totalling 54 fits\n"
     ]
    },
    {
     "name": "stderr",
     "output_type": "stream",
     "text": [
      "[Parallel(n_jobs=1)]: Done  54 out of  54 | elapsed:   51.6s finished\n"
     ]
    },
    {
     "data": {
      "text/plain": [
       "GridSearchCV(cv=None, error_score='raise',\n",
       "       estimator=RandomForestClassifier(bootstrap=True, class_weight=None, criterion='gini',\n",
       "            max_depth=None, max_features='auto', max_leaf_nodes=None,\n",
       "            min_impurity_decrease=0.0, min_impurity_split=None,\n",
       "            min_samples_leaf=1, min_samples_split=2,\n",
       "            min_weight_fraction_leaf=0.0, n_estimators=10, n_jobs=1,\n",
       "            oob_score=False, random_state=None, verbose=0,\n",
       "            warm_start=False),\n",
       "       fit_params=None, iid=True, n_jobs=1,\n",
       "       param_grid={'n_estimators': [10, 11, 12], 'max_depth': [None, 2, 3], 'warm_start': [True, False]},\n",
       "       pre_dispatch='2*n_jobs', refit=True, return_train_score='warn',\n",
       "       scoring=None, verbose=1)"
      ]
     },
     "execution_count": 39,
     "metadata": {},
     "output_type": "execute_result"
    }
   ],
   "source": [
    "gs_rf = GridSearchCV(RandomForestClassifier(),\n",
    "                    {\"n_estimators\": [10,11,12],\n",
    "                    \"max_depth\":[None, 2,3],\n",
    "                    'warm_start':[True, False]},verbose=1)\n",
    "gs_rf.fit(X_train_full, y_train)"
   ]
  },
  {
   "cell_type": "code",
   "execution_count": 43,
   "metadata": {},
   "outputs": [
    {
     "data": {
      "text/plain": [
       "0.6836815657233536"
      ]
     },
     "execution_count": 43,
     "metadata": {},
     "output_type": "execute_result"
    }
   ],
   "source": [
    "gs_rf.best_score_"
   ]
  },
  {
   "cell_type": "markdown",
   "metadata": {},
   "source": [
    "Since the title-less features had a better ROC curve, let's see if those features do better in a random forest as well:"
   ]
  },
  {
   "cell_type": "code",
   "execution_count": 41,
   "metadata": {},
   "outputs": [
    {
     "name": "stdout",
     "output_type": "stream",
     "text": [
      "Fitting 3 folds for each of 18 candidates, totalling 54 fits\n"
     ]
    },
    {
     "name": "stderr",
     "output_type": "stream",
     "text": [
      "[Parallel(n_jobs=1)]: Done  54 out of  54 | elapsed:   12.8s finished\n"
     ]
    },
    {
     "data": {
      "text/plain": [
       "GridSearchCV(cv=None, error_score='raise',\n",
       "       estimator=RandomForestClassifier(bootstrap=True, class_weight=None, criterion='gini',\n",
       "            max_depth=None, max_features='auto', max_leaf_nodes=None,\n",
       "            min_impurity_decrease=0.0, min_impurity_split=None,\n",
       "            min_samples_leaf=1, min_samples_split=2,\n",
       "            min_weight_fraction_leaf=0.0, n_estimators=10, n_jobs=1,\n",
       "            oob_score=False, random_state=None, verbose=0,\n",
       "            warm_start=False),\n",
       "       fit_params=None, iid=True, n_jobs=1,\n",
       "       param_grid={'n_estimators': [10, 11, 12], 'max_depth': [None, 2, 3], 'warm_start': [True, False]},\n",
       "       pre_dispatch='2*n_jobs', refit=True, return_train_score='warn',\n",
       "       scoring=None, verbose=1)"
      ]
     },
     "execution_count": 41,
     "metadata": {},
     "output_type": "execute_result"
    }
   ],
   "source": [
    "as_rf= GridSearchCV(RandomForestClassifier(),\n",
    "                    {\"n_estimators\": [10,11,12],\n",
    "                    \"max_depth\":[None, 2,3],\n",
    "                    'warm_start':[True, False]},verbose=1)\n",
    "as_rf.fit(X_train_as, y_train)"
   ]
  },
  {
   "cell_type": "code",
   "execution_count": 42,
   "metadata": {},
   "outputs": [
    {
     "data": {
      "text/plain": [
       "0.709336154456493"
      ]
     },
     "execution_count": 42,
     "metadata": {},
     "output_type": "execute_result"
    }
   ],
   "source": [
    "as_rf.best_score_"
   ]
  },
  {
   "cell_type": "markdown",
   "metadata": {},
   "source": [
    "An improvement!  More evidence that titles are less important than age and subreddit.  Let's compare the RoC curves here."
   ]
  },
  {
   "cell_type": "code",
   "execution_count": 44,
   "metadata": {},
   "outputs": [
    {
     "data": {
      "image/png": "[encoded data removed]",
      "text/plain": [
       "<matplotlib.figure.Figure at 0x1a1697b940>"
      ]
     },
     "metadata": {},
     "output_type": "display_data"
    }
   ],
   "source": [
    "models = {'age + subreddit + title':gs_rf.predict_proba(X_test_full),\n",
    "         'age + subreddit':as_rf.predict_proba(X_test_as)}\n",
    "another_roc_plotter(models, y_test, \"RoC | Random Forest Classifiers on Varying Features\")"
   ]
  },
  {
   "cell_type": "markdown",
   "metadata": {},
   "source": [
    "Pretty close, actually."
   ]
  },
  {
   "cell_type": "markdown",
   "metadata": {},
   "source": [
    "## Plot Post Timing\n",
    "\n",
    "I thought of a plot that might be interesting, which would answer the following question: What time do people make posts on reddit, throughout the week?\n",
    "\n",
    "To build this plot, we'll need to do some calculations on the 'created_utc' (for simplicity's sake due to time zone nonsense) to reconstruct the post's time-of-day and day-of-week information."
   ]
  },
  {
   "cell_type": "code",
   "execution_count": 176,
   "metadata": {},
   "outputs": [],
   "source": [
    "times = cumulative_df['created_utc'].astype('datetime64[s]')\n",
    "\n",
    "times = pd.DatetimeIndex(times).tz_localize('UTC').tz_convert('America/Los_Angeles')\n",
    "\n",
    "hours = (times.strftime('%H')).astype('int')\n",
    "\n",
    "minutes = times.strftime('%M').astype('int')\n",
    "\n",
    "seconds = times.strftime('%S').astype('int')\n",
    "\n",
    "weekdays = pd.DatetimeIndex(np.datetime_as_string(times)).weekday_name"
   ]
  },
  {
   "cell_type": "code",
   "execution_count": 178,
   "metadata": {},
   "outputs": [],
   "source": [
    "total_seconds = seconds + 60*minutes + (60**2)*hours"
   ]
  },
  {
   "cell_type": "code",
   "execution_count": 182,
   "metadata": {},
   "outputs": [],
   "source": [
    "time_df = pd.DataFrame()\n",
    "time_df['weekdays'] = weekdays\n",
    "time_df['time'] = total_seconds"
   ]
  },
  {
   "cell_type": "code",
   "execution_count": 183,
   "metadata": {},
   "outputs": [],
   "source": [
    "weekday_encoding = dict(Monday=0, Tuesday = 1, Wednesday = 2, Thursday = 3, Friday = 4, Saturday = 5, Sunday = 6)"
   ]
  },
  {
   "cell_type": "code",
   "execution_count": 186,
   "metadata": {},
   "outputs": [],
   "source": [
    "time_df['weekdays_encoding'] = time_df['weekdays'].map(weekday_encoding)"
   ]
  },
  {
   "cell_type": "code",
   "execution_count": 189,
   "metadata": {},
   "outputs": [],
   "source": [
    "time_df['target'] = y.sort_index().values"
   ]
  },
  {
   "cell_type": "code",
   "execution_count": 191,
   "metadata": {},
   "outputs": [
    {
     "data": {
      "text/plain": [
       "count     5042.000000\n",
       "mean     30509.516462\n",
       "std      18889.061242\n",
       "min         85.000000\n",
       "25%      18179.750000\n",
       "50%      26146.500000\n",
       "75%      37443.250000\n",
       "max      86386.000000\n",
       "Name: time, dtype: float64"
      ]
     },
     "execution_count": 191,
     "metadata": {},
     "output_type": "execute_result"
    }
   ],
   "source": [
    "# Double checking that our time values makes sense.  There are 86400 seconds in a day.\n",
    "time_df['time'].describe()"
   ]
  },
  {
   "cell_type": "markdown",
   "metadata": {},
   "source": [
    "Looks good."
   ]
  },
  {
   "cell_type": "code",
   "execution_count": 209,
   "metadata": {},
   "outputs": [],
   "source": [
    "time_df['funny'] = time_df['target'].map({0:'Low',1:'High'})"
   ]
  },
  {
   "cell_type": "code",
   "execution_count": 211,
   "metadata": {},
   "outputs": [
    {
     "data": {
      "image/png": "[encoded data removed]",
      "text/plain": [
       "<matplotlib.figure.Figure at 0x1a3a283dd8>"
      ]
     },
     "metadata": {},
     "output_type": "display_data"
    }
   ],
   "source": [
    "# Here's the tricky part.  We have to change the x labels, the ytick locations, and the ytick labels.\n",
    "# I'm pretty happy with how this plot turned out.  One note--the shapes of the violins go outside\n",
    "# the boundaries of the data due to kernel estimation nonsense.\n",
    "plt.close()\n",
    "plt.figure(figsize = (15,10))\n",
    "ax = plt.gca()\n",
    "g = sns.violinplot(ax = ax, data=time_df,x='weekdays_encoding',y='time', hue = 'funny', hue_order = ['High', 'Low'])\n",
    "g.set(xticklabels = ['Monday', 'Tuesday', 'Wednesday', 'Thursday', 'Friday', 'Saturday', 'Sunday'])\n",
    "#g.set_ylim(bottom = 0, top=86400)\n",
    "plt.legend(loc = 1,fancybox=True,shadow = True,)\n",
    "ax.set_xlabel(\"\")\n",
    "ax.set_ylabel(\"Pacific Daylight Time\")\n",
    "ax.set_yticks(np.linspace(0,86400, 7))\n",
    "ax.set_yticklabels([\"Midnight\", \"4:00 am\", \"8:00 am\", \"Noon\", \"4:00 pm\", \"8:00 pm\", \"Midnight\"])\n",
    "plt.show()"
   ]
  },
  {
   "cell_type": "markdown",
   "metadata": {},
   "source": [
    "# Per-subreddit NLP success metrics\n",
    "\n",
    "We'll being our per-subreddit analysis.  The new scraping logic is located in the companion notebook to this one."
   ]
  },
  {
   "cell_type": "code",
   "execution_count": 348,
   "metadata": {},
   "outputs": [
    {
     "data": {
      "text/plain": [
       "subreddit\n",
       "news                 14\n",
       "AskReddit            14\n",
       "worldnews            13\n",
       "pics                 12\n",
       "funny                12\n",
       "videos               11\n",
       "gaming               11\n",
       "gifs                 11\n",
       "mildlyinteresting    10\n",
       "MemeEconomy           9\n",
       "dtype: int64"
      ]
     },
     "execution_count": 348,
     "metadata": {},
     "output_type": "execute_result"
    }
   ],
   "source": [
    "cumulative_df.sort_values(by='num_comments', ascending=False).head(int(np.ceil(cumulative_df.shape[0]*(.1)))).groupby('subreddit').size().sort_values(ascending=False).head(10)"
   ]
  },
  {
   "cell_type": "code",
   "execution_count": 351,
   "metadata": {},
   "outputs": [],
   "source": [
    "top_subreddits = list(cumulative_df.sort_values(by='num_comments', ascending=False).head(int(np.ceil(cumulative_df.shape[0]*(.1)))).groupby('subreddit').size().sort_values(ascending=False).head(10).index)"
   ]
  },
  {
   "cell_type": "code",
   "execution_count": 352,
   "metadata": {},
   "outputs": [
    {
     "data": {
      "text/plain": [
       "['news',\n",
       " 'AskReddit',\n",
       " 'worldnews',\n",
       " 'pics',\n",
       " 'funny',\n",
       " 'videos',\n",
       " 'gaming',\n",
       " 'gifs',\n",
       " 'mildlyinteresting',\n",
       " 'MemeEconomy']"
      ]
     },
     "execution_count": 352,
     "metadata": {},
     "output_type": "execute_result"
    }
   ],
   "source": [
    "top_subreddits"
   ]
  },
  {
   "cell_type": "markdown",
   "metadata": {},
   "source": [
    "## AskReddit analysis\n",
    "\n",
    "This will be a test case for whether per-subreddit title analysis is worth doing."
   ]
  },
  {
   "cell_type": "code",
   "execution_count": 18,
   "metadata": {},
   "outputs": [
    {
     "name": "stdout",
     "output_type": "stream",
     "text": [
      "(4055, 79)\n",
      "(2912, 79)\n"
     ]
    }
   ],
   "source": [
    "# We'll load our cumulative csv for this subreddit, then drop duplicates (keeping the most recent).\n",
    "\n",
    "askreddit_df = pd.read_csv(\"AskReddit-cumulative.csv\")\n",
    "print(askreddit_df.shape)\n",
    "askreddit_df = askreddit_df.sort_values(by='num_comments', ascending=False)\n",
    "\n",
    "askreddit_df = askreddit_df.drop_duplicates(subset='id')\n",
    "print(askreddit_df.shape)"
   ]
  },
  {
   "cell_type": "code",
   "execution_count": 20,
   "metadata": {},
   "outputs": [],
   "source": [
    "# We'll break down the posting times in order to do some feature engineering.\n",
    "\n",
    "times = askreddit_df['created_utc'].astype('datetime64[s]')\n",
    "\n",
    "times = pd.DatetimeIndex(times).tz_localize('UTC').tz_convert('America/Los_Angeles')\n",
    "\n",
    "hours = (times.strftime('%H')).astype('int')\n",
    "\n",
    "minutes = times.strftime('%M').astype('int')\n",
    "\n",
    "seconds = times.strftime('%S').astype('int')\n",
    "\n",
    "weekdays = pd.DatetimeIndex(np.datetime_as_string(times)).weekday_name\n",
    "\n",
    "askreddit_df['hours'] = hours\n",
    "askreddit_df['weekdays'] = weekdays"
   ]
  },
  {
   "cell_type": "code",
   "execution_count": 23,
   "metadata": {},
   "outputs": [],
   "source": [
    "askreddit_df['target'] = askreddit_df['num_comments'].map(lambda x: 1 if x > askreddit_df['num_comments'].median() else 0)"
   ]
  },
  {
   "cell_type": "code",
   "execution_count": 24,
   "metadata": {},
   "outputs": [],
   "source": [
    "# From the violin plots, we saw that posts happen more frequently at certain times than others.\n",
    "# Let's group the day into four 6-hour periods\n",
    "midnight = [21, 22, 23, 0 ,1, 2]\n",
    "morning = [3,4,5,6,7,8]\n",
    "noon = [9,10,11,12,13,14]\n",
    "evening = [15, 16, 17, 18, 19, 20]\n",
    "\n",
    "\n",
    "askreddit_df['is_midnight'] = askreddit_df['hours'].map(lambda x: 1 if x in midnight else 0)\n",
    "askreddit_df['is_morning'] = askreddit_df['hours'].map(lambda x: 1 if x in morning else 0)\n",
    "askreddit_df['is_noon'] = askreddit_df['hours'].map(lambda x: 1 if x in noon else 0)\n",
    "askreddit_df['is_evening'] = askreddit_df['hours'].map(lambda x: 1 if x in evening else 0)"
   ]
  },
  {
   "cell_type": "code",
   "execution_count": 26,
   "metadata": {},
   "outputs": [],
   "source": [
    "features = ['is_midnight', 'is_morning', 'is_noon', 'is_evening', 'weekdays', 'title']\n",
    "X = askreddit_df[features]\n",
    "y = askreddit_df['target']\n",
    "\n",
    "X_train, X_test, y_train, y_test = train_test_split(X,y)"
   ]
  },
  {
   "cell_type": "code",
   "execution_count": 8,
   "metadata": {},
   "outputs": [
    {
     "name": "stdout",
     "output_type": "stream",
     "text": [
      "[nltk_data] Downloading package wordnet to\n",
      "[nltk_data]     /Users/jameshampton/nltk_data...\n",
      "[nltk_data]   Package wordnet is already up-to-date!\n"
     ]
    },
    {
     "data": {
      "text/plain": [
       "True"
      ]
     },
     "execution_count": 8,
     "metadata": {},
     "output_type": "execute_result"
    }
   ],
   "source": [
    "# To do our NLP, we'll need to decide on a tokenizer in order to build our word vectors.\n",
    "# This implements a custom tokenizer (there are a few easier ways to do this that I learned later, \n",
    "# but I'm preserving this because it involved defining a class, which I haven't had much occasion\n",
    "# to do thus far.)\n",
    "\n",
    "\n",
    "class LemmaTokenizer(object):\n",
    "    def __init__(self):\n",
    "        self.wnl = nltk.WordNetLemmatizer()\n",
    "    def __call__(self, doc):\n",
    "        sentences = nltk.sent_tokenize(doc)\n",
    "        \n",
    "        return [nltk.WordNetLemmatizer().lemmatize(w) for w in tokenizer.tokenize(doc)]"
   ]
  },
  {
   "cell_type": "code",
   "execution_count": 2,
   "metadata": {},
   "outputs": [
    {
     "data": {
      "text/plain": [
       "[\"I'm\", 'afraid', 'I', \"can't\", 'let', 'you', 'do', 'that', 'Dave']"
      ]
     },
     "execution_count": 2,
     "metadata": {},
     "output_type": "execute_result"
    }
   ],
   "source": [
    "# This is a bread-and-butter fairly simple, fairly clumsy tokenizer based on alphanum chars.\n",
    "tokenizer = nltk.RegexpTokenizer(r\"([\\w']+)\")\n",
    "tokenizer.tokenize(\"I'm afraid I can't let you do that, Dave\")"
   ]
  },
  {
   "cell_type": "code",
   "execution_count": 34,
   "metadata": {},
   "outputs": [],
   "source": [
    "# Process our dataframe:\n",
    "# Vectorize the titles, then put them into a dataframe\n",
    "tf = TfidfVectorizer(stop_words = 'english',ngram_range=(1,3),tokenizer=LemmaTokenizer())\n",
    "X_train_counts = pd.DataFrame(tf.fit_transform(X_train['title']).todense(), index = X_train.index, columns = tf.get_feature_names())\n",
    "X_test_counts = pd.DataFrame(tf.transform(X_test['title']).todense(), index=X_test.index, columns = tf.get_feature_names())\n",
    "\n",
    "# Merge title-vector with our feature dataframe\n",
    "X_train_full = pd.concat([X_train.drop('title', axis = 1), X_train_counts], axis=1)\n",
    "X_test_full = pd.concat([X_test.drop('title', axis=1), X_test_counts], axis=1)\n",
    "\n",
    "# Dummy out weekdays\n",
    "X_train_full = pd.get_dummies(X_train_full, columns = ['weekdays'])\n",
    "X_test_full = pd.get_dummies(X_test_full, columns = ['weekdays'])\n",
    "\n",
    "# Equalize our levels\n",
    "X_train_full, X_test_full = leveller(X_train_full, X_test_full)"
   ]
  },
  {
   "cell_type": "code",
   "execution_count": 560,
   "metadata": {},
   "outputs": [
    {
     "data": {
      "text/plain": [
       "({'C': 0.04175318936560404}, 0.5992217898832685)"
      ]
     },
     "execution_count": 560,
     "metadata": {},
     "output_type": "execute_result"
    }
   ],
   "source": [
    "params = {\n",
    "    'C':np.logspace(-5,2,30),\n",
    "}\n",
    "gs_log = GridSearchCV(LogisticRegression(), params)\n",
    "gs_log.fit(X_train_counts,y_train)\n",
    "gs_log.best_params_, gs_log.score(X_test_counts, y_test)"
   ]
  },
  {
   "cell_type": "code",
   "execution_count": 35,
   "metadata": {},
   "outputs": [
    {
     "data": {
      "text/plain": [
       "({'C': 18.873918221350994}, 0.6318681318681318)"
      ]
     },
     "execution_count": 35,
     "metadata": {},
     "output_type": "execute_result"
    }
   ],
   "source": [
    "# Tune a logistic model.  We get cross-validation for free using gridsearch.\n",
    "params = {\n",
    "    'C':np.logspace(-5,2,30),\n",
    "}\n",
    "gs_log = GridSearchCV(LogisticRegression(), params)\n",
    "gs_log.fit(X_train_full,y_train)\n",
    "gs_log.best_params_, gs_log.score(X_test_full, y_test)"
   ]
  },
  {
   "cell_type": "code",
   "execution_count": 36,
   "metadata": {},
   "outputs": [
    {
     "data": {
      "text/plain": [
       "[<matplotlib.lines.Line2D at 0x1a26ed9748>]"
      ]
     },
     "execution_count": 36,
     "metadata": {},
     "output_type": "execute_result"
    },
    {
     "data": {
      "image/png": "[encoded data removed]",
      "text/plain": [
       "<matplotlib.figure.Figure at 0x1a26ece470>"
      ]
     },
     "metadata": {},
     "output_type": "display_data"
    }
   ],
   "source": [
    "# Visualize how our accuracy varies over our parameter space.\n",
    "plt.semilogx(np.logspace(-5,2,30),gs_log.cv_results_['mean_test_score'])"
   ]
  },
  {
   "cell_type": "code",
   "execution_count": 44,
   "metadata": {},
   "outputs": [
    {
     "data": {
      "text/plain": [
       "0.6744505494505495"
      ]
     },
     "execution_count": 44,
     "metadata": {},
     "output_type": "execute_result"
    }
   ],
   "source": [
    "# What was our best accuracy?\n",
    "gs_log.best_score_"
   ]
  },
  {
   "cell_type": "code",
   "execution_count": 42,
   "metadata": {},
   "outputs": [
    {
     "data": {
      "text/html": [
       "<div>\n",
       "<style scoped>\n",
       "    .dataframe tbody tr th:only-of-type {\n",
       "        vertical-align: middle;\n",
       "    }\n",
       "\n",
       "    .dataframe tbody tr th {\n",
       "        vertical-align: top;\n",
       "    }\n",
       "\n",
       "    .dataframe thead th {\n",
       "        text-align: right;\n",
       "    }\n",
       "</style>\n",
       "<table border=\"1\" class=\"dataframe\">\n",
       "  <thead>\n",
       "    <tr style=\"text-align: right;\">\n",
       "      <th></th>\n",
       "      <th>coef</th>\n",
       "    </tr>\n",
       "  </thead>\n",
       "  <tbody>\n",
       "    <tr>\n",
       "      <th>food</th>\n",
       "      <td>4.058035</td>\n",
       "    </tr>\n",
       "    <tr>\n",
       "      <th>weekdays_Thursday</th>\n",
       "      <td>3.935590</td>\n",
       "    </tr>\n",
       "    <tr>\n",
       "      <th>problem</th>\n",
       "      <td>3.915139</td>\n",
       "    </tr>\n",
       "    <tr>\n",
       "      <th>sex</th>\n",
       "      <td>3.663306</td>\n",
       "    </tr>\n",
       "    <tr>\n",
       "      <th>animal</th>\n",
       "      <td>3.508667</td>\n",
       "    </tr>\n",
       "    <tr>\n",
       "      <th>s like</th>\n",
       "      <td>3.507255</td>\n",
       "    </tr>\n",
       "    <tr>\n",
       "      <th>nsfw</th>\n",
       "      <td>3.475712</td>\n",
       "    </tr>\n",
       "    <tr>\n",
       "      <th>answer question</th>\n",
       "      <td>3.426319</td>\n",
       "    </tr>\n",
       "    <tr>\n",
       "      <th>person change</th>\n",
       "      <td>3.308716</td>\n",
       "    </tr>\n",
       "    <tr>\n",
       "      <th>truly</th>\n",
       "      <td>3.277800</td>\n",
       "    </tr>\n",
       "    <tr>\n",
       "      <th>hobby</th>\n",
       "      <td>3.171618</td>\n",
       "    </tr>\n",
       "    <tr>\n",
       "      <th>smell</th>\n",
       "      <td>3.048434</td>\n",
       "    </tr>\n",
       "    <tr>\n",
       "      <th>did meet</th>\n",
       "      <td>3.007617</td>\n",
       "    </tr>\n",
       "    <tr>\n",
       "      <th>is_evening</th>\n",
       "      <td>2.909670</td>\n",
       "    </tr>\n",
       "    <tr>\n",
       "      <th>year</th>\n",
       "      <td>2.773854</td>\n",
       "    </tr>\n",
       "    <tr>\n",
       "      <th>die</th>\n",
       "      <td>2.751761</td>\n",
       "    </tr>\n",
       "    <tr>\n",
       "      <th>hey reddit</th>\n",
       "      <td>2.743245</td>\n",
       "    </tr>\n",
       "    <tr>\n",
       "      <th>fired</th>\n",
       "      <td>2.739179</td>\n",
       "    </tr>\n",
       "    <tr>\n",
       "      <th>instantly</th>\n",
       "      <td>2.725833</td>\n",
       "    </tr>\n",
       "    <tr>\n",
       "      <th>night</th>\n",
       "      <td>2.705440</td>\n",
       "    </tr>\n",
       "    <tr>\n",
       "      <th>understand</th>\n",
       "      <td>2.663372</td>\n",
       "    </tr>\n",
       "    <tr>\n",
       "      <th>collect</th>\n",
       "      <td>2.593037</td>\n",
       "    </tr>\n",
       "    <tr>\n",
       "      <th>hey</th>\n",
       "      <td>2.491393</td>\n",
       "    </tr>\n",
       "    <tr>\n",
       "      <th>is_midnight</th>\n",
       "      <td>2.474644</td>\n",
       "    </tr>\n",
       "    <tr>\n",
       "      <th>dark</th>\n",
       "      <td>2.470213</td>\n",
       "    </tr>\n",
       "    <tr>\n",
       "      <th>best thing</th>\n",
       "      <td>2.469314</td>\n",
       "    </tr>\n",
       "    <tr>\n",
       "      <th>greatest</th>\n",
       "      <td>2.457562</td>\n",
       "    </tr>\n",
       "    <tr>\n",
       "      <th>trump</th>\n",
       "      <td>2.456162</td>\n",
       "    </tr>\n",
       "    <tr>\n",
       "      <th>right</th>\n",
       "      <td>2.439941</td>\n",
       "    </tr>\n",
       "    <tr>\n",
       "      <th>card</th>\n",
       "      <td>2.434056</td>\n",
       "    </tr>\n",
       "    <tr>\n",
       "      <th>...</th>\n",
       "      <td>...</td>\n",
       "    </tr>\n",
       "    <tr>\n",
       "      <th>stealing</th>\n",
       "      <td>-2.369823</td>\n",
       "    </tr>\n",
       "    <tr>\n",
       "      <th>parent reddit</th>\n",
       "      <td>-2.442503</td>\n",
       "    </tr>\n",
       "    <tr>\n",
       "      <th>meet people</th>\n",
       "      <td>-2.462551</td>\n",
       "    </tr>\n",
       "    <tr>\n",
       "      <th>doctor</th>\n",
       "      <td>-2.469396</td>\n",
       "    </tr>\n",
       "    <tr>\n",
       "      <th>late</th>\n",
       "      <td>-2.482799</td>\n",
       "    </tr>\n",
       "    <tr>\n",
       "      <th>r</th>\n",
       "      <td>-2.494207</td>\n",
       "    </tr>\n",
       "    <tr>\n",
       "      <th>creepiest</th>\n",
       "      <td>-2.505169</td>\n",
       "    </tr>\n",
       "    <tr>\n",
       "      <th>page</th>\n",
       "      <td>-2.532519</td>\n",
       "    </tr>\n",
       "    <tr>\n",
       "      <th>coolest thing</th>\n",
       "      <td>-2.538350</td>\n",
       "    </tr>\n",
       "    <tr>\n",
       "      <th>is_noon</th>\n",
       "      <td>-2.546297</td>\n",
       "    </tr>\n",
       "    <tr>\n",
       "      <th>college</th>\n",
       "      <td>-2.574424</td>\n",
       "    </tr>\n",
       "    <tr>\n",
       "      <th>working</th>\n",
       "      <td>-2.574756</td>\n",
       "    </tr>\n",
       "    <tr>\n",
       "      <th>thing you've seen</th>\n",
       "      <td>-2.634316</td>\n",
       "    </tr>\n",
       "    <tr>\n",
       "      <th>creepiest thing</th>\n",
       "      <td>-2.663335</td>\n",
       "    </tr>\n",
       "    <tr>\n",
       "      <th>travel</th>\n",
       "      <td>-2.669023</td>\n",
       "    </tr>\n",
       "    <tr>\n",
       "      <th>dream</th>\n",
       "      <td>-2.693327</td>\n",
       "    </tr>\n",
       "    <tr>\n",
       "      <th>received</th>\n",
       "      <td>-2.773803</td>\n",
       "    </tr>\n",
       "    <tr>\n",
       "      <th>cringiest</th>\n",
       "      <td>-2.819199</td>\n",
       "    </tr>\n",
       "    <tr>\n",
       "      <th>life</th>\n",
       "      <td>-2.918872</td>\n",
       "    </tr>\n",
       "    <tr>\n",
       "      <th>don't</th>\n",
       "      <td>-2.945820</td>\n",
       "    </tr>\n",
       "    <tr>\n",
       "      <th>memory</th>\n",
       "      <td>-2.947101</td>\n",
       "    </tr>\n",
       "    <tr>\n",
       "      <th>think car</th>\n",
       "      <td>-2.993330</td>\n",
       "    </tr>\n",
       "    <tr>\n",
       "      <th>what's favorite</th>\n",
       "      <td>-3.085904</td>\n",
       "    </tr>\n",
       "    <tr>\n",
       "      <th>coolest</th>\n",
       "      <td>-3.137758</td>\n",
       "    </tr>\n",
       "    <tr>\n",
       "      <th>ve</th>\n",
       "      <td>-3.183627</td>\n",
       "    </tr>\n",
       "    <tr>\n",
       "      <th>u</th>\n",
       "      <td>-3.192297</td>\n",
       "    </tr>\n",
       "    <tr>\n",
       "      <th>parent</th>\n",
       "      <td>-3.193332</td>\n",
       "    </tr>\n",
       "    <tr>\n",
       "      <th>doe</th>\n",
       "      <td>-3.199523</td>\n",
       "    </tr>\n",
       "    <tr>\n",
       "      <th>story</th>\n",
       "      <td>-3.834008</td>\n",
       "    </tr>\n",
       "    <tr>\n",
       "      <th>subreddit</th>\n",
       "      <td>-4.473200</td>\n",
       "    </tr>\n",
       "  </tbody>\n",
       "</table>\n",
       "<p>21148 rows × 1 columns</p>\n",
       "</div>"
      ],
      "text/plain": [
       "                       coef\n",
       "food               4.058035\n",
       "weekdays_Thursday  3.935590\n",
       "problem            3.915139\n",
       "sex                3.663306\n",
       "animal             3.508667\n",
       "s like             3.507255\n",
       "nsfw               3.475712\n",
       "answer question    3.426319\n",
       "person change      3.308716\n",
       "truly              3.277800\n",
       "hobby              3.171618\n",
       "smell              3.048434\n",
       "did meet           3.007617\n",
       "is_evening         2.909670\n",
       "year               2.773854\n",
       "die                2.751761\n",
       "hey reddit         2.743245\n",
       "fired              2.739179\n",
       "instantly          2.725833\n",
       "night              2.705440\n",
       "understand         2.663372\n",
       "collect            2.593037\n",
       "hey                2.491393\n",
       "is_midnight        2.474644\n",
       "dark               2.470213\n",
       "best thing         2.469314\n",
       "greatest           2.457562\n",
       "trump              2.456162\n",
       "right              2.439941\n",
       "card               2.434056\n",
       "...                     ...\n",
       "stealing          -2.369823\n",
       "parent reddit     -2.442503\n",
       "meet people       -2.462551\n",
       "doctor            -2.469396\n",
       "late              -2.482799\n",
       "r                 -2.494207\n",
       "creepiest         -2.505169\n",
       "page              -2.532519\n",
       "coolest thing     -2.538350\n",
       "is_noon           -2.546297\n",
       "college           -2.574424\n",
       "working           -2.574756\n",
       "thing you've seen -2.634316\n",
       "creepiest thing   -2.663335\n",
       "travel            -2.669023\n",
       "dream             -2.693327\n",
       "received          -2.773803\n",
       "cringiest         -2.819199\n",
       "life              -2.918872\n",
       "don't             -2.945820\n",
       "memory            -2.947101\n",
       "think car         -2.993330\n",
       "what's favorite   -3.085904\n",
       "coolest           -3.137758\n",
       "ve                -3.183627\n",
       "u                 -3.192297\n",
       "parent            -3.193332\n",
       "doe               -3.199523\n",
       "story             -3.834008\n",
       "subreddit         -4.473200\n",
       "\n",
       "[21148 rows x 1 columns]"
      ]
     },
     "execution_count": 42,
     "metadata": {},
     "output_type": "execute_result"
    }
   ],
   "source": [
    "# Let's look at the best coefficients from the logistic model\n",
    "pd.DataFrame(gs_log.best_estimator_.coef_, columns=X_test_full.columns,index=['coef']).T.sort_values(by='coef', ascending=False)"
   ]
  },
  {
   "cell_type": "markdown",
   "metadata": {},
   "source": [
    "Not a ton of correlation in the top title features.  We should collect posts over a longer timespan in order to reduce variance.\n",
    "\n",
    "We left unexplored interactions among various time features: time-of-day, day-of-week, and age.  Further investigation of these interactions should be explored in future analysis."
   ]
  },
  {
   "cell_type": "markdown",
   "metadata": {},
   "source": [
    "# Random Forest Classifier"
   ]
  },
  {
   "cell_type": "code",
   "execution_count": 39,
   "metadata": {},
   "outputs": [
    {
     "data": {
      "text/plain": [
       "0.6346153846153846"
      ]
     },
     "execution_count": 39,
     "metadata": {},
     "output_type": "execute_result"
    }
   ],
   "source": [
    "params = {\n",
    "    'alpha':np.logspace(-5, 2, 10)\n",
    "}\n",
    "gs_mnb = GridSearchCV(MultinomialNB(), params)\n",
    "gs_mnb.fit(X_train_full, y_train)\n",
    "gs_mnb.score(X_test_full, y_test)"
   ]
  },
  {
   "cell_type": "code",
   "execution_count": 40,
   "metadata": {},
   "outputs": [
    {
     "data": {
      "text/plain": [
       "0.6098901098901099"
      ]
     },
     "execution_count": 40,
     "metadata": {},
     "output_type": "execute_result"
    }
   ],
   "source": [
    "params = {'max_features':np.linspace(0.1, 1.0, 10)\n",
    "}\n",
    "\n",
    "gs_rfc = GridSearchCV(RandomForestClassifier(),params)\n",
    "gs_rfc.fit(X_train_full, y_train)\n",
    "gs_rfc.score(X_test_full, y_test)"
   ]
  },
  {
   "cell_type": "markdown",
   "metadata": {},
   "source": [
    "These aren't very good models.  Multinomial NB and Logistic are roughly tied.  Since Logistic is more easily interpretable, we'll present the results from the logistic model."
   ]
  },
  {
   "cell_type": "code",
   "execution_count": 41,
   "metadata": {},
   "outputs": [
    {
     "data": {
      "text/html": [
       "<div>\n",
       "<style scoped>\n",
       "    .dataframe tbody tr th:only-of-type {\n",
       "        vertical-align: middle;\n",
       "    }\n",
       "\n",
       "    .dataframe tbody tr th {\n",
       "        vertical-align: top;\n",
       "    }\n",
       "\n",
       "    .dataframe thead th {\n",
       "        text-align: right;\n",
       "    }\n",
       "</style>\n",
       "<table border=\"1\" class=\"dataframe\">\n",
       "  <thead>\n",
       "    <tr style=\"text-align: right;\">\n",
       "      <th></th>\n",
       "      <th>0</th>\n",
       "    </tr>\n",
       "  </thead>\n",
       "  <tbody>\n",
       "    <tr>\n",
       "      <th>is_noon</th>\n",
       "      <td>0.074993</td>\n",
       "    </tr>\n",
       "    <tr>\n",
       "      <th>is_midnight</th>\n",
       "      <td>0.027023</td>\n",
       "    </tr>\n",
       "    <tr>\n",
       "      <th>is_morning</th>\n",
       "      <td>0.019752</td>\n",
       "    </tr>\n",
       "    <tr>\n",
       "      <th>thing</th>\n",
       "      <td>0.010188</td>\n",
       "    </tr>\n",
       "    <tr>\n",
       "      <th>people</th>\n",
       "      <td>0.010108</td>\n",
       "    </tr>\n",
       "    <tr>\n",
       "      <th>is_evening</th>\n",
       "      <td>0.009025</td>\n",
       "    </tr>\n",
       "    <tr>\n",
       "      <th>weekdays_Thursday</th>\n",
       "      <td>0.008848</td>\n",
       "    </tr>\n",
       "    <tr>\n",
       "      <th>reddit</th>\n",
       "      <td>0.008785</td>\n",
       "    </tr>\n",
       "    <tr>\n",
       "      <th>ve</th>\n",
       "      <td>0.007508</td>\n",
       "    </tr>\n",
       "    <tr>\n",
       "      <th>did</th>\n",
       "      <td>0.006101</td>\n",
       "    </tr>\n",
       "    <tr>\n",
       "      <th>year</th>\n",
       "      <td>0.006057</td>\n",
       "    </tr>\n",
       "    <tr>\n",
       "      <th>sex</th>\n",
       "      <td>0.005772</td>\n",
       "    </tr>\n",
       "    <tr>\n",
       "      <th>movie</th>\n",
       "      <td>0.005762</td>\n",
       "    </tr>\n",
       "    <tr>\n",
       "      <th>ha</th>\n",
       "      <td>0.005568</td>\n",
       "    </tr>\n",
       "    <tr>\n",
       "      <th>s</th>\n",
       "      <td>0.005370</td>\n",
       "    </tr>\n",
       "    <tr>\n",
       "      <th>what's</th>\n",
       "      <td>0.005035</td>\n",
       "    </tr>\n",
       "    <tr>\n",
       "      <th>make</th>\n",
       "      <td>0.004895</td>\n",
       "    </tr>\n",
       "    <tr>\n",
       "      <th>problem</th>\n",
       "      <td>0.004450</td>\n",
       "    </tr>\n",
       "    <tr>\n",
       "      <th>food</th>\n",
       "      <td>0.004302</td>\n",
       "    </tr>\n",
       "    <tr>\n",
       "      <th>life</th>\n",
       "      <td>0.004225</td>\n",
       "    </tr>\n",
       "    <tr>\n",
       "      <th>you've</th>\n",
       "      <td>0.004225</td>\n",
       "    </tr>\n",
       "    <tr>\n",
       "      <th>nsfw</th>\n",
       "      <td>0.004185</td>\n",
       "    </tr>\n",
       "    <tr>\n",
       "      <th>subreddit</th>\n",
       "      <td>0.004031</td>\n",
       "    </tr>\n",
       "    <tr>\n",
       "      <th>parent</th>\n",
       "      <td>0.003867</td>\n",
       "    </tr>\n",
       "    <tr>\n",
       "      <th>say</th>\n",
       "      <td>0.003725</td>\n",
       "    </tr>\n",
       "    <tr>\n",
       "      <th>come</th>\n",
       "      <td>0.003681</td>\n",
       "    </tr>\n",
       "    <tr>\n",
       "      <th>seen</th>\n",
       "      <td>0.003549</td>\n",
       "    </tr>\n",
       "    <tr>\n",
       "      <th>story</th>\n",
       "      <td>0.003514</td>\n",
       "    </tr>\n",
       "    <tr>\n",
       "      <th>greatest</th>\n",
       "      <td>0.003411</td>\n",
       "    </tr>\n",
       "    <tr>\n",
       "      <th>country</th>\n",
       "      <td>0.003373</td>\n",
       "    </tr>\n",
       "    <tr>\n",
       "      <th>...</th>\n",
       "      <td>...</td>\n",
       "    </tr>\n",
       "    <tr>\n",
       "      <th>ha previously</th>\n",
       "      <td>0.000000</td>\n",
       "    </tr>\n",
       "    <tr>\n",
       "      <th>ha noticed decided</th>\n",
       "      <td>0.000000</td>\n",
       "    </tr>\n",
       "    <tr>\n",
       "      <th>ha started</th>\n",
       "      <td>0.000000</td>\n",
       "    </tr>\n",
       "    <tr>\n",
       "      <th>ha noticed</th>\n",
       "      <td>0.000000</td>\n",
       "    </tr>\n",
       "    <tr>\n",
       "      <th>ha netted unexpectedly</th>\n",
       "      <td>0.000000</td>\n",
       "    </tr>\n",
       "    <tr>\n",
       "      <th>ha netted</th>\n",
       "      <td>0.000000</td>\n",
       "    </tr>\n",
       "    <tr>\n",
       "      <th>ha lowest point</th>\n",
       "      <td>0.000000</td>\n",
       "    </tr>\n",
       "    <tr>\n",
       "      <th>ha lowest</th>\n",
       "      <td>0.000000</td>\n",
       "    </tr>\n",
       "    <tr>\n",
       "      <th>ha le 100k</th>\n",
       "      <td>0.000000</td>\n",
       "    </tr>\n",
       "    <tr>\n",
       "      <th>ha le</th>\n",
       "      <td>0.000000</td>\n",
       "    </tr>\n",
       "    <tr>\n",
       "      <th>ha ratified</th>\n",
       "      <td>0.000000</td>\n",
       "    </tr>\n",
       "    <tr>\n",
       "      <th>ha really</th>\n",
       "      <td>0.000000</td>\n",
       "    </tr>\n",
       "    <tr>\n",
       "      <th>ha really helped</th>\n",
       "      <td>0.000000</td>\n",
       "    </tr>\n",
       "    <tr>\n",
       "      <th>ha reddit</th>\n",
       "      <td>0.000000</td>\n",
       "    </tr>\n",
       "    <tr>\n",
       "      <th>ha starred terrible</th>\n",
       "      <td>0.000000</td>\n",
       "    </tr>\n",
       "    <tr>\n",
       "      <th>ha starred</th>\n",
       "      <td>0.000000</td>\n",
       "    </tr>\n",
       "    <tr>\n",
       "      <th>ha spotty human</th>\n",
       "      <td>0.000000</td>\n",
       "    </tr>\n",
       "    <tr>\n",
       "      <th>ha spotty</th>\n",
       "      <td>0.000000</td>\n",
       "    </tr>\n",
       "    <tr>\n",
       "      <th>ha skeleton closet</th>\n",
       "      <td>0.000000</td>\n",
       "    </tr>\n",
       "    <tr>\n",
       "      <th>ha skeleton</th>\n",
       "      <td>0.000000</td>\n",
       "    </tr>\n",
       "    <tr>\n",
       "      <th>ha shark venomous</th>\n",
       "      <td>0.000000</td>\n",
       "    </tr>\n",
       "    <tr>\n",
       "      <th>ha seizure work</th>\n",
       "      <td>0.000000</td>\n",
       "    </tr>\n",
       "    <tr>\n",
       "      <th>ha seen tv</th>\n",
       "      <td>0.000000</td>\n",
       "    </tr>\n",
       "    <tr>\n",
       "      <th>ha seen desire</th>\n",
       "      <td>0.000000</td>\n",
       "    </tr>\n",
       "    <tr>\n",
       "      <th>ha said public</th>\n",
       "      <td>0.000000</td>\n",
       "    </tr>\n",
       "    <tr>\n",
       "      <th>ha said manner</th>\n",
       "      <td>0.000000</td>\n",
       "    </tr>\n",
       "    <tr>\n",
       "      <th>ha ridiculous asinine</th>\n",
       "      <td>0.000000</td>\n",
       "    </tr>\n",
       "    <tr>\n",
       "      <th>ha ridiculous</th>\n",
       "      <td>0.000000</td>\n",
       "    </tr>\n",
       "    <tr>\n",
       "      <th>ha reddit improved</th>\n",
       "      <td>0.000000</td>\n",
       "    </tr>\n",
       "    <tr>\n",
       "      <th>mid invest</th>\n",
       "      <td>0.000000</td>\n",
       "    </tr>\n",
       "  </tbody>\n",
       "</table>\n",
       "<p>21148 rows × 1 columns</p>\n",
       "</div>"
      ],
      "text/plain": [
       "                               0\n",
       "is_noon                 0.074993\n",
       "is_midnight             0.027023\n",
       "is_morning              0.019752\n",
       "thing                   0.010188\n",
       "people                  0.010108\n",
       "is_evening              0.009025\n",
       "weekdays_Thursday       0.008848\n",
       "reddit                  0.008785\n",
       "ve                      0.007508\n",
       "did                     0.006101\n",
       "year                    0.006057\n",
       "sex                     0.005772\n",
       "movie                   0.005762\n",
       "ha                      0.005568\n",
       "s                       0.005370\n",
       "what's                  0.005035\n",
       "make                    0.004895\n",
       "problem                 0.004450\n",
       "food                    0.004302\n",
       "life                    0.004225\n",
       "you've                  0.004225\n",
       "nsfw                    0.004185\n",
       "subreddit               0.004031\n",
       "parent                  0.003867\n",
       "say                     0.003725\n",
       "come                    0.003681\n",
       "seen                    0.003549\n",
       "story                   0.003514\n",
       "greatest                0.003411\n",
       "country                 0.003373\n",
       "...                          ...\n",
       "ha previously           0.000000\n",
       "ha noticed decided      0.000000\n",
       "ha started              0.000000\n",
       "ha noticed              0.000000\n",
       "ha netted unexpectedly  0.000000\n",
       "ha netted               0.000000\n",
       "ha lowest point         0.000000\n",
       "ha lowest               0.000000\n",
       "ha le 100k              0.000000\n",
       "ha le                   0.000000\n",
       "ha ratified             0.000000\n",
       "ha really               0.000000\n",
       "ha really helped        0.000000\n",
       "ha reddit               0.000000\n",
       "ha starred terrible     0.000000\n",
       "ha starred              0.000000\n",
       "ha spotty human         0.000000\n",
       "ha spotty               0.000000\n",
       "ha skeleton closet      0.000000\n",
       "ha skeleton             0.000000\n",
       "ha shark venomous       0.000000\n",
       "ha seizure work         0.000000\n",
       "ha seen tv              0.000000\n",
       "ha seen desire          0.000000\n",
       "ha said public          0.000000\n",
       "ha said manner          0.000000\n",
       "ha ridiculous asinine   0.000000\n",
       "ha ridiculous           0.000000\n",
       "ha reddit improved      0.000000\n",
       "mid invest              0.000000\n",
       "\n",
       "[21148 rows x 1 columns]"
      ]
     },
     "execution_count": 41,
     "metadata": {},
     "output_type": "execute_result"
    }
   ],
   "source": [
    "# Let's look at the most important features from the rfc model.\n",
    "pd.DataFrame(gs_rfc.best_estimator_.feature_importances_, index = X_test_full.columns).sort_values(by=0, ascending=False)"
   ]
  },
  {
   "cell_type": "markdown",
   "metadata": {},
   "source": [
    "# Subreddit workflow"
   ]
  },
  {
   "cell_type": "markdown",
   "metadata": {},
   "source": [
    "We'll generalize our AskReddit workflow to analyze the rest of the top subreddits.  Since Logistic models have been the best thus far, we'll stick with logistic models on the rest of the top subreddits.\n",
    "\n",
    "I had a bit of inspiration here (although it didn't end up helping that much) after doing the violin plot to include some additional engineered time features--morning, noon, evening, midnight, as well as to include a day-of-week feature."
   ]
  },
  {
   "cell_type": "code",
   "execution_count": 253,
   "metadata": {},
   "outputs": [],
   "source": [
    "def get_train_test_features(subreddit, percentile):\n",
    "    # Loard csv, drop duplicates\n",
    "    subreddit_df = pd.read_csv(f\"{subreddit}-cumulative.csv\")\n",
    "    subreddit_df = subreddit_df.sort_values(by='num_comments', ascending=False)\n",
    "    subreddit_df = subreddit_df.drop_duplicates(subset='id')\n",
    "    \n",
    "    \n",
    "    # Engineer time features - post age, day-of-week and time-of-day\n",
    "    subreddit_df['age'] = subreddit_df['time_fetched'].astype('datetime64[s]') - subreddit_df['created_utc'].astype('datetime64[s]')\n",
    "\n",
    "    subreddit_df['age_s'] = subreddit_df['age'].astype('timedelta64[s]')\n",
    "    subreddit_df['age_mins'] = subreddit_df['age'].astype('timedelta64[m]')\n",
    "    subreddit_df['age_hrs'] = subreddit_df['age'].astype('timedelta64[h]')\n",
    "\n",
    "    \n",
    "    times = subreddit_df['created_utc'].astype('datetime64[s]')\n",
    "\n",
    "    times = pd.DatetimeIndex(times).tz_localize('UTC').tz_convert('America/Los_Angeles')\n",
    "\n",
    "    hours = (times.strftime('%H')).astype('int')\n",
    "    hours = (times.strftime('%H')).astype('int')\n",
    "    weekdays = pd.DatetimeIndex(np.datetime_as_string(times)).weekday_name\n",
    "    \n",
    "    midnight = [21, 22, 23, 0 ,1, 2]\n",
    "    morning = [3,4,5,6,7,8]\n",
    "    noon = [9,10,11,12,13,14]\n",
    "    evening = [15, 16, 17, 18, 19, 20]\n",
    "\n",
    "    subreddit_df['hours'] = hours\n",
    "    subreddit_df['weekdays'] = weekdays\n",
    "\n",
    "    subreddit_df['is_midnight'] = subreddit_df['hours'].map(lambda x: 1 if x in midnight else 0)\n",
    "    subreddit_df['is_morning'] = subreddit_df['hours'].map(lambda x: 1 if x in morning else 0)\n",
    "    subreddit_df['is_noon'] = subreddit_df['hours'].map(lambda x: 1 if x in noon else 0)\n",
    "    subreddit_df['is_evening'] = subreddit_df['hours'].map(lambda x: 1 if x in evening else 0)\n",
    "    \n",
    "    subreddit_df['target'] = subreddit_df['num_comments'].map(lambda x: 1 if x > subreddit_df['num_comments'].quantile(percentile) else 0)\n",
    "    \n",
    "    \n",
    "    # Collect our features\n",
    "    features = ['age_hrs', 'is_midnight', 'is_morning', 'is_noon', 'is_evening','weekdays', 'title']\n",
    "    X = subreddit_df[features]\n",
    "    y = subreddit_df['target']\n",
    "    \n",
    "    X_train, X_test, y_train, y_test = train_test_split(X,y)\n",
    "    \n",
    "    # Vectorize title column, then add it back to the original dataframe.\n",
    "    tf = TfidfVectorizer(stop_words = 'english',ngram_range=(1,3),tokenizer=LemmaTokenizer())\n",
    "    X_train_counts = pd.DataFrame(tf.fit_transform(X_train['title']).todense(), index = X_train.index, columns = tf.get_feature_names())\n",
    "    X_test_counts = pd.DataFrame(tf.transform(X_test['title']).todense(), index=X_test.index, columns = tf.get_feature_names())\n",
    "\n",
    "    X_train_full = pd.concat([X_train.drop('title', axis = 1), X_train_counts], axis=1)\n",
    "    X_test_full = pd.concat([X_test.drop('title', axis=1), X_test_counts], axis=1)\n",
    "\n",
    "    X_train_full = pd.get_dummies(X_train_full, columns = ['weekdays'])\n",
    "    X_test_full = pd.get_dummies(X_test_full, columns = ['weekdays'])\n",
    "\n",
    "    X_train_full, X_test_full = leveller(X_train_full, X_test_full)\n",
    "    \n",
    "    return X_train_full, X_test_full, y_train, y_test"
   ]
  },
  {
   "cell_type": "code",
   "execution_count": 326,
   "metadata": {},
   "outputs": [],
   "source": [
    "def get_top_log_coefs(X_train, X_test, y_train, y_test):\n",
    "    params = {'C': np.logspace(-6, 2, 10)}\n",
    "    gs_log = GridSearchCV(LogisticRegression(), params)\n",
    "    gs_log.fit(X_train, y_train)\n",
    "    \n",
    "    # Make coefficient dataframe to return\n",
    "    model = gs_log.best_estimator_\n",
    "    coefs = model.coef_\n",
    "    df = pd.DataFrame(coefs, index = ['coefs'], columns = X_train.columns)\n",
    "    preds = [x[1] for x in model.predict_proba(X_test)]\n",
    "    return df, gs_log.score(X_test, y_test), roc_auc_score(y_test, preds), gs_log.predict(X_test)\n",
    "    "
   ]
  },
  {
   "cell_type": "markdown",
   "metadata": {},
   "source": [
    "# Revisiting the General Analysis\n",
    "\n",
    "We've engineered a few more features (related to time), and we've streamlined our workflow for the per-subreddit analysis.  Let's revisit the general analysis and see what we get."
   ]
  },
  {
   "cell_type": "code",
   "execution_count": 243,
   "metadata": {},
   "outputs": [],
   "source": [
    "def get_train_test_features_gen(percentile):\n",
    "    # Loard csv, drop duplicates\n",
    "    subreddit_df = pd.read_csv(\"reddit-cumulative.csv\")\n",
    "    subreddit_df = subreddit_df.sort_values(by='num_comments', ascending=False)\n",
    "    subreddit_df = subreddit_df.drop_duplicates(subset='id')\n",
    "    \n",
    "    \n",
    "    # Engineer time features - post age, day-of-week and time-of-day\n",
    "    subreddit_df['age'] = subreddit_df['time_fetched'].astype('datetime64[s]') - subreddit_df['created_utc'].astype('datetime64[s]')\n",
    "\n",
    "    subreddit_df['age_hrs'] = subreddit_df['age'].astype('timedelta64[h]')\n",
    "\n",
    "    \n",
    "    times = subreddit_df['created_utc'].astype('datetime64[s]')\n",
    "\n",
    "    times = pd.DatetimeIndex(times).tz_localize('UTC').tz_convert('America/Los_Angeles')\n",
    "\n",
    "    hours = (times.strftime('%H')).astype('int')\n",
    "    hours = (times.strftime('%H')).astype('int')\n",
    "    weekdays = pd.DatetimeIndex(np.datetime_as_string(times)).weekday_name\n",
    "    \n",
    "    midnight = [21, 22, 23, 0 ,1, 2]\n",
    "    morning = [3,4,5,6,7,8]\n",
    "    noon = [9,10,11,12,13,14]\n",
    "    evening = [15, 16, 17, 18, 19, 20]\n",
    "\n",
    "    subreddit_df['hours'] = hours\n",
    "    subreddit_df['weekdays'] = weekdays\n",
    "\n",
    "    subreddit_df['is_midnight'] = subreddit_df['hours'].map(lambda x: 1 if x in midnight else 0)\n",
    "    subreddit_df['is_morning'] = subreddit_df['hours'].map(lambda x: 1 if x in morning else 0)\n",
    "    subreddit_df['is_noon'] = subreddit_df['hours'].map(lambda x: 1 if x in noon else 0)\n",
    "    subreddit_df['is_evening'] = subreddit_df['hours'].map(lambda x: 1 if x in evening else 0)\n",
    "    \n",
    "    subreddit_df['target'] = subreddit_df['num_comments'].map(lambda x: 1 if x > subreddit_df['num_comments'].quantile(percentile) else 0)\n",
    "    \n",
    "    \n",
    "    # Collect our features\n",
    "    features = ['age_hrs', 'is_midnight', 'is_morning', 'is_noon', 'is_evening','weekdays','subreddit', 'title']\n",
    "    X = subreddit_df[features]\n",
    "    y = subreddit_df['target']\n",
    "    \n",
    "    X_train, X_test, y_train, y_test = train_test_split(X,y)\n",
    "    \n",
    "    X_train = pd.get_dummies(X_train, columns = ['weekdays', 'subreddit'])\n",
    "    X_test = pd.get_dummies(X_test, columns = ['weekdays', 'subreddit'])\n",
    "    # Vectorize title column, then add it back to the original dataframe.\n",
    "    tf = TfidfVectorizer(stop_words = 'english',ngram_range=(1,3),tokenizer=LemmaTokenizer())\n",
    "    X_train_counts = pd.DataFrame(tf.fit_transform(X_train['title']).todense(), index = X_train.index, columns = tf.get_feature_names())\n",
    "    X_test_counts = pd.DataFrame(tf.transform(X_test['title']).todense(), index=X_test.index, columns = tf.get_feature_names())\n",
    "\n",
    "    X_train_full = pd.concat([X_train.drop('title', axis = 1), X_train_counts], axis=1)\n",
    "    X_test_full = pd.concat([X_test.drop('title', axis=1), X_test_counts], axis=1)\n",
    "    \n",
    "    print(type(X_train_full), X_train_full.shape)\n",
    "    print(type(X_test_full), X_test_full.shape)\n",
    "    \n",
    "    \n",
    "\n",
    "    X_train_full, X_test_full = leveller(X_train_full, X_test_full)\n",
    "    \n",
    "    return X_train_full, X_test_full, y_train, y_test"
   ]
  },
  {
   "cell_type": "code",
   "execution_count": 327,
   "metadata": {},
   "outputs": [
    {
     "name": "stdout",
     "output_type": "stream",
     "text": [
      "<class 'pandas.core.frame.DataFrame'> (3781, 40121)\n",
      "<class 'pandas.core.frame.DataFrame'> (1261, 39651)\n"
     ]
    }
   ],
   "source": [
    "# Load up our variables\n",
    "x1, x2, y1, y2 = get_train_test_features_gen(0.5)\n",
    "\n",
    "df,acc,roc, preds = get_top_log_coefs(x1, x2, y1, y2)"
   ]
  },
  {
   "cell_type": "code",
   "execution_count": 346,
   "metadata": {},
   "outputs": [
    {
     "data": {
      "text/plain": [
       "0.7494052339413164"
      ]
     },
     "execution_count": 346,
     "metadata": {},
     "output_type": "execute_result"
    }
   ],
   "source": [
    "# Take a look at our accuracy\n",
    "acc"
   ]
  },
  {
   "cell_type": "code",
   "execution_count": 345,
   "metadata": {},
   "outputs": [
    {
     "data": {
      "text/plain": [
       "Text(0.5,33,'Predicted')"
      ]
     },
     "execution_count": 345,
     "metadata": {},
     "output_type": "execute_result"
    },
    {
     "data": {
      "image/png": "[encoded data removed]",
      "text/plain": [
       "<matplotlib.figure.Figure at 0x1a6590fd68>"
      ]
     },
     "metadata": {},
     "output_type": "display_data"
    }
   ],
   "source": [
    "# Plot a confusion matrix\n",
    "plt.figure(figsize = (10,6))\n",
    "sns.heatmap(confusion_matrix(y2,preds),annot=True, fmt='.0f')\n",
    "ax = plt.gca()\n",
    "ax.set_xticklabels(['Low', 'High'])\n",
    "ax.set_yticklabels(['Low', 'High'])\n",
    "ax.set_ylabel(\"Actual\")\n",
    "ax.set_xlabel(\"Predicted\")"
   ]
  },
  {
   "cell_type": "markdown",
   "metadata": {},
   "source": [
    "Let's take a look at our RoC score and accuracy"
   ]
  },
  {
   "cell_type": "code",
   "execution_count": 249,
   "metadata": {},
   "outputs": [
    {
     "data": {
      "text/plain": [
       "0.829378385998832"
      ]
     },
     "execution_count": 249,
     "metadata": {},
     "output_type": "execute_result"
    }
   ],
   "source": [
    "c"
   ]
  },
  {
   "cell_type": "code",
   "execution_count": 250,
   "metadata": {},
   "outputs": [
    {
     "data": {
      "text/plain": [
       "0.7636796193497224"
      ]
     },
     "execution_count": 250,
     "metadata": {},
     "output_type": "execute_result"
    }
   ],
   "source": [
    "b"
   ]
  },
  {
   "cell_type": "markdown",
   "metadata": {},
   "source": [
    "Pretty good!  What are our coefficients?"
   ]
  },
  {
   "cell_type": "code",
   "execution_count": 319,
   "metadata": {},
   "outputs": [
    {
     "data": {
      "text/html": [
       "<div>\n",
       "<style scoped>\n",
       "    .dataframe tbody tr th:only-of-type {\n",
       "        vertical-align: middle;\n",
       "    }\n",
       "\n",
       "    .dataframe tbody tr th {\n",
       "        vertical-align: top;\n",
       "    }\n",
       "\n",
       "    .dataframe thead th {\n",
       "        text-align: right;\n",
       "    }\n",
       "</style>\n",
       "<table border=\"1\" class=\"dataframe\">\n",
       "  <thead>\n",
       "    <tr style=\"text-align: right;\">\n",
       "      <th></th>\n",
       "      <th>coefs</th>\n",
       "      <th>coefs_sq</th>\n",
       "    </tr>\n",
       "  </thead>\n",
       "  <tbody>\n",
       "    <tr>\n",
       "      <th>subreddit_funny</th>\n",
       "      <td>5.039139</td>\n",
       "      <td>2.539293e+01</td>\n",
       "    </tr>\n",
       "    <tr>\n",
       "      <th>subreddit_pics</th>\n",
       "      <td>4.856225</td>\n",
       "      <td>2.358292e+01</td>\n",
       "    </tr>\n",
       "    <tr>\n",
       "      <th>subreddit_aww</th>\n",
       "      <td>4.404263</td>\n",
       "      <td>1.939753e+01</td>\n",
       "    </tr>\n",
       "    <tr>\n",
       "      <th>subreddit_FortNiteBR</th>\n",
       "      <td>4.371606</td>\n",
       "      <td>1.911094e+01</td>\n",
       "    </tr>\n",
       "    <tr>\n",
       "      <th>subreddit_gifs</th>\n",
       "      <td>4.346882</td>\n",
       "      <td>1.889539e+01</td>\n",
       "    </tr>\n",
       "    <tr>\n",
       "      <th>subreddit_worldnews</th>\n",
       "      <td>4.336696</td>\n",
       "      <td>1.880693e+01</td>\n",
       "    </tr>\n",
       "    <tr>\n",
       "      <th>subreddit_MMA</th>\n",
       "      <td>4.193082</td>\n",
       "      <td>1.758193e+01</td>\n",
       "    </tr>\n",
       "    <tr>\n",
       "      <th>subreddit_gaming</th>\n",
       "      <td>4.154512</td>\n",
       "      <td>1.725997e+01</td>\n",
       "    </tr>\n",
       "    <tr>\n",
       "      <th>subreddit_MemeEconomy</th>\n",
       "      <td>4.097548</td>\n",
       "      <td>1.678990e+01</td>\n",
       "    </tr>\n",
       "    <tr>\n",
       "      <th>subreddit_movies</th>\n",
       "      <td>4.080697</td>\n",
       "      <td>1.665209e+01</td>\n",
       "    </tr>\n",
       "    <tr>\n",
       "      <th>subreddit_marvelstudios</th>\n",
       "      <td>4.055117</td>\n",
       "      <td>1.644397e+01</td>\n",
       "    </tr>\n",
       "    <tr>\n",
       "      <th>subreddit_news</th>\n",
       "      <td>3.933921</td>\n",
       "      <td>1.547573e+01</td>\n",
       "    </tr>\n",
       "    <tr>\n",
       "      <th>grape</th>\n",
       "      <td>3.828250</td>\n",
       "      <td>1.465550e+01</td>\n",
       "    </tr>\n",
       "    <tr>\n",
       "      <th>subreddit_Whatcouldgowrong</th>\n",
       "      <td>3.812908</td>\n",
       "      <td>1.453826e+01</td>\n",
       "    </tr>\n",
       "    <tr>\n",
       "      <th>subreddit_CringeAnarchy</th>\n",
       "      <td>3.777609</td>\n",
       "      <td>1.427033e+01</td>\n",
       "    </tr>\n",
       "    <tr>\n",
       "      <th>subreddit_videos</th>\n",
       "      <td>3.684844</td>\n",
       "      <td>1.357808e+01</td>\n",
       "    </tr>\n",
       "    <tr>\n",
       "      <th>subreddit_todayilearned</th>\n",
       "      <td>3.640564</td>\n",
       "      <td>1.325370e+01</td>\n",
       "    </tr>\n",
       "    <tr>\n",
       "      <th>subreddit_PublicFreakout</th>\n",
       "      <td>3.603273</td>\n",
       "      <td>1.298358e+01</td>\n",
       "    </tr>\n",
       "    <tr>\n",
       "      <th>subreddit_StarWars</th>\n",
       "      <td>3.593966</td>\n",
       "      <td>1.291659e+01</td>\n",
       "    </tr>\n",
       "    <tr>\n",
       "      <th>subreddit_teslamotors</th>\n",
       "      <td>3.474485</td>\n",
       "      <td>1.207204e+01</td>\n",
       "    </tr>\n",
       "    <tr>\n",
       "      <th>subreddit_Music</th>\n",
       "      <td>3.447211</td>\n",
       "      <td>1.188326e+01</td>\n",
       "    </tr>\n",
       "    <tr>\n",
       "      <th>subreddit_gadgets</th>\n",
       "      <td>3.436747</td>\n",
       "      <td>1.181123e+01</td>\n",
       "    </tr>\n",
       "    <tr>\n",
       "      <th>subreddit_television</th>\n",
       "      <td>3.411697</td>\n",
       "      <td>1.163968e+01</td>\n",
       "    </tr>\n",
       "    <tr>\n",
       "      <th>subreddit_nonononoyes</th>\n",
       "      <td>3.379043</td>\n",
       "      <td>1.141793e+01</td>\n",
       "    </tr>\n",
       "    <tr>\n",
       "      <th>subreddit_Libertarian</th>\n",
       "      <td>3.284487</td>\n",
       "      <td>1.078786e+01</td>\n",
       "    </tr>\n",
       "    <tr>\n",
       "      <th>subreddit_RoastMe</th>\n",
       "      <td>3.277572</td>\n",
       "      <td>1.074248e+01</td>\n",
       "    </tr>\n",
       "    <tr>\n",
       "      <th>subreddit_Wellthatsucks</th>\n",
       "      <td>3.262480</td>\n",
       "      <td>1.064378e+01</td>\n",
       "    </tr>\n",
       "    <tr>\n",
       "      <th>subreddit_SubredditDrama</th>\n",
       "      <td>3.254189</td>\n",
       "      <td>1.058974e+01</td>\n",
       "    </tr>\n",
       "    <tr>\n",
       "      <th>_</th>\n",
       "      <td>-3.209444</td>\n",
       "      <td>1.030053e+01</td>\n",
       "    </tr>\n",
       "    <tr>\n",
       "      <th>subreddit_MURICA</th>\n",
       "      <td>3.187032</td>\n",
       "      <td>1.015717e+01</td>\n",
       "    </tr>\n",
       "    <tr>\n",
       "      <th>...</th>\n",
       "      <td>...</td>\n",
       "      <td>...</td>\n",
       "    </tr>\n",
       "    <tr>\n",
       "      <th>image product</th>\n",
       "      <td>0.001376</td>\n",
       "      <td>1.893155e-06</td>\n",
       "    </tr>\n",
       "    <tr>\n",
       "      <th>hurt crystal pepsi's</th>\n",
       "      <td>0.001376</td>\n",
       "      <td>1.893155e-06</td>\n",
       "    </tr>\n",
       "    <tr>\n",
       "      <th>hurt crystal</th>\n",
       "      <td>0.001376</td>\n",
       "      <td>1.893155e-06</td>\n",
       "    </tr>\n",
       "    <tr>\n",
       "      <th>released coca cola</th>\n",
       "      <td>0.001376</td>\n",
       "      <td>1.893155e-06</td>\n",
       "    </tr>\n",
       "    <tr>\n",
       "      <th>released competitor</th>\n",
       "      <td>0.001376</td>\n",
       "      <td>1.893155e-06</td>\n",
       "    </tr>\n",
       "    <tr>\n",
       "      <th>successful</th>\n",
       "      <td>0.001376</td>\n",
       "      <td>1.893155e-06</td>\n",
       "    </tr>\n",
       "    <tr>\n",
       "      <th>wa successful</th>\n",
       "      <td>0.001376</td>\n",
       "      <td>1.893155e-06</td>\n",
       "    </tr>\n",
       "    <tr>\n",
       "      <th>association born die</th>\n",
       "      <td>0.001376</td>\n",
       "      <td>1.893155e-06</td>\n",
       "    </tr>\n",
       "    <tr>\n",
       "      <th>association born</th>\n",
       "      <td>0.001376</td>\n",
       "      <td>1.893155e-06</td>\n",
       "    </tr>\n",
       "    <tr>\n",
       "      <th>association</th>\n",
       "      <td>0.001376</td>\n",
       "      <td>1.893155e-06</td>\n",
       "    </tr>\n",
       "    <tr>\n",
       "      <th>wa intentionally</th>\n",
       "      <td>0.001376</td>\n",
       "      <td>1.893155e-06</td>\n",
       "    </tr>\n",
       "    <tr>\n",
       "      <th>wa intentionally marketed</th>\n",
       "      <td>0.001376</td>\n",
       "      <td>1.893155e-06</td>\n",
       "    </tr>\n",
       "    <tr>\n",
       "      <th>wa released</th>\n",
       "      <td>0.001376</td>\n",
       "      <td>1.893155e-06</td>\n",
       "    </tr>\n",
       "    <tr>\n",
       "      <th>successful campaign</th>\n",
       "      <td>0.001376</td>\n",
       "      <td>1.893155e-06</td>\n",
       "    </tr>\n",
       "    <tr>\n",
       "      <th>wa released coca</th>\n",
       "      <td>0.001376</td>\n",
       "      <td>1.893155e-06</td>\n",
       "    </tr>\n",
       "    <tr>\n",
       "      <th>successful campaign dead</th>\n",
       "      <td>0.001376</td>\n",
       "      <td>1.893155e-06</td>\n",
       "    </tr>\n",
       "    <tr>\n",
       "      <th>wa successful campaign</th>\n",
       "      <td>0.001376</td>\n",
       "      <td>1.893155e-06</td>\n",
       "    </tr>\n",
       "    <tr>\n",
       "      <th>order hurt</th>\n",
       "      <td>0.001376</td>\n",
       "      <td>1.893155e-06</td>\n",
       "    </tr>\n",
       "    <tr>\n",
       "      <th>dead 6 month</th>\n",
       "      <td>0.001376</td>\n",
       "      <td>1.893155e-06</td>\n",
       "    </tr>\n",
       "    <tr>\n",
       "      <th>tab clear wa</th>\n",
       "      <td>0.001376</td>\n",
       "      <td>1.893155e-06</td>\n",
       "    </tr>\n",
       "    <tr>\n",
       "      <th>tab clear tab</th>\n",
       "      <td>0.001376</td>\n",
       "      <td>1.893155e-06</td>\n",
       "    </tr>\n",
       "    <tr>\n",
       "      <th>die strategy</th>\n",
       "      <td>0.001376</td>\n",
       "      <td>1.893155e-06</td>\n",
       "    </tr>\n",
       "    <tr>\n",
       "      <th>die strategy wa</th>\n",
       "      <td>0.001376</td>\n",
       "      <td>1.893155e-06</td>\n",
       "    </tr>\n",
       "    <tr>\n",
       "      <th>subreddit_RetroFuturism</th>\n",
       "      <td>0.000988</td>\n",
       "      <td>9.755068e-07</td>\n",
       "    </tr>\n",
       "    <tr>\n",
       "      <th>figure</th>\n",
       "      <td>0.000902</td>\n",
       "      <td>8.127604e-07</td>\n",
       "    </tr>\n",
       "    <tr>\n",
       "      <th>generation</th>\n",
       "      <td>-0.000582</td>\n",
       "      <td>3.382360e-07</td>\n",
       "    </tr>\n",
       "    <tr>\n",
       "      <th>alternative</th>\n",
       "      <td>0.000407</td>\n",
       "      <td>1.656538e-07</td>\n",
       "    </tr>\n",
       "    <tr>\n",
       "      <th>continue</th>\n",
       "      <td>0.000314</td>\n",
       "      <td>9.832093e-08</td>\n",
       "    </tr>\n",
       "    <tr>\n",
       "      <th>bug</th>\n",
       "      <td>0.000264</td>\n",
       "      <td>6.982474e-08</td>\n",
       "    </tr>\n",
       "    <tr>\n",
       "      <th>s going</th>\n",
       "      <td>-0.000089</td>\n",
       "      <td>7.857442e-09</td>\n",
       "    </tr>\n",
       "  </tbody>\n",
       "</table>\n",
       "<p>39980 rows × 2 columns</p>\n",
       "</div>"
      ],
      "text/plain": [
       "                               coefs      coefs_sq\n",
       "subreddit_funny             5.039139  2.539293e+01\n",
       "subreddit_pics              4.856225  2.358292e+01\n",
       "subreddit_aww               4.404263  1.939753e+01\n",
       "subreddit_FortNiteBR        4.371606  1.911094e+01\n",
       "subreddit_gifs              4.346882  1.889539e+01\n",
       "subreddit_worldnews         4.336696  1.880693e+01\n",
       "subreddit_MMA               4.193082  1.758193e+01\n",
       "subreddit_gaming            4.154512  1.725997e+01\n",
       "subreddit_MemeEconomy       4.097548  1.678990e+01\n",
       "subreddit_movies            4.080697  1.665209e+01\n",
       "subreddit_marvelstudios     4.055117  1.644397e+01\n",
       "subreddit_news              3.933921  1.547573e+01\n",
       "grape                       3.828250  1.465550e+01\n",
       "subreddit_Whatcouldgowrong  3.812908  1.453826e+01\n",
       "subreddit_CringeAnarchy     3.777609  1.427033e+01\n",
       "subreddit_videos            3.684844  1.357808e+01\n",
       "subreddit_todayilearned     3.640564  1.325370e+01\n",
       "subreddit_PublicFreakout    3.603273  1.298358e+01\n",
       "subreddit_StarWars          3.593966  1.291659e+01\n",
       "subreddit_teslamotors       3.474485  1.207204e+01\n",
       "subreddit_Music             3.447211  1.188326e+01\n",
       "subreddit_gadgets           3.436747  1.181123e+01\n",
       "subreddit_television        3.411697  1.163968e+01\n",
       "subreddit_nonononoyes       3.379043  1.141793e+01\n",
       "subreddit_Libertarian       3.284487  1.078786e+01\n",
       "subreddit_RoastMe           3.277572  1.074248e+01\n",
       "subreddit_Wellthatsucks     3.262480  1.064378e+01\n",
       "subreddit_SubredditDrama    3.254189  1.058974e+01\n",
       "_                          -3.209444  1.030053e+01\n",
       "subreddit_MURICA            3.187032  1.015717e+01\n",
       "...                              ...           ...\n",
       "image product               0.001376  1.893155e-06\n",
       "hurt crystal pepsi's        0.001376  1.893155e-06\n",
       "hurt crystal                0.001376  1.893155e-06\n",
       "released coca cola          0.001376  1.893155e-06\n",
       "released competitor         0.001376  1.893155e-06\n",
       "successful                  0.001376  1.893155e-06\n",
       "wa successful               0.001376  1.893155e-06\n",
       "association born die        0.001376  1.893155e-06\n",
       "association born            0.001376  1.893155e-06\n",
       "association                 0.001376  1.893155e-06\n",
       "wa intentionally            0.001376  1.893155e-06\n",
       "wa intentionally marketed   0.001376  1.893155e-06\n",
       "wa released                 0.001376  1.893155e-06\n",
       "successful campaign         0.001376  1.893155e-06\n",
       "wa released coca            0.001376  1.893155e-06\n",
       "successful campaign dead    0.001376  1.893155e-06\n",
       "wa successful campaign      0.001376  1.893155e-06\n",
       "order hurt                  0.001376  1.893155e-06\n",
       "dead 6 month                0.001376  1.893155e-06\n",
       "tab clear wa                0.001376  1.893155e-06\n",
       "tab clear tab               0.001376  1.893155e-06\n",
       "die strategy                0.001376  1.893155e-06\n",
       "die strategy wa             0.001376  1.893155e-06\n",
       "subreddit_RetroFuturism     0.000988  9.755068e-07\n",
       "figure                      0.000902  8.127604e-07\n",
       "generation                 -0.000582  3.382360e-07\n",
       "alternative                 0.000407  1.656538e-07\n",
       "continue                    0.000314  9.832093e-08\n",
       "bug                         0.000264  6.982474e-08\n",
       "s going                    -0.000089  7.857442e-09\n",
       "\n",
       "[39980 rows x 2 columns]"
      ]
     },
     "execution_count": 319,
     "metadata": {},
     "output_type": "execute_result"
    }
   ],
   "source": [
    "coefs_df = a.T\n",
    "\n",
    "coefs_df['coefs_sq'] = coefs_df['coefs']**2\n",
    "\n",
    "coefs_df.sort_values(by = 'coefs_sq', ascending=False)"
   ]
  },
  {
   "cell_type": "code",
   "execution_count": 255,
   "metadata": {},
   "outputs": [],
   "source": [
    "# These were the top subreddits from analyzing the general reddit data.\n",
    "top_subreddits = ['news',\n",
    " 'AskReddit',\n",
    " 'worldnews',\n",
    " 'pics',\n",
    " 'funny',\n",
    " 'videos',\n",
    " 'gaming',\n",
    " 'gifs',\n",
    " 'mildlyinteresting',\n",
    " 'MemeEconomy']"
   ]
  },
  {
   "cell_type": "code",
   "execution_count": 99,
   "metadata": {},
   "outputs": [],
   "source": [
    "# Build out our logistic models for each subreddit.  Save their coefficients, feature names, and RoC score for analysis.\n",
    "top_coefs = []\n",
    "bottom_coefs = []\n",
    "scores = []\n",
    "for subreddit in top_subreddits:\n",
    "    x1, x2, y1, y2 = get_train_test_features(subreddit, 0.5)\n",
    "    coefs, acc, roc = get_top_log_coefs(x1, x2,y1, y2)\n",
    "    sort = coefs.T.sort_values(by='coefs', ascending=False)\n",
    "    top_coefs.append((subreddit,sort.head(25)))\n",
    "    bottom_coefs.append((subreddit, sort.tail(25)))\n",
    "    scores.append((subreddit, acc, roc))"
   ]
  },
  {
   "cell_type": "code",
   "execution_count": 256,
   "metadata": {},
   "outputs": [
    {
     "data": {
      "text/plain": [
       "[('news', 0.6666666666666666, 0.7113740959894805),\n",
       " ('AskReddit', 0.6978021978021978, 0.760150052457977),\n",
       " ('worldnews', 0.6396396396396397, 0.6995522172468583),\n",
       " ('pics', 0.6468699839486356, 0.6897157508229932),\n",
       " ('funny', 0.681260945709282, 0.7385718498857186),\n",
       " ('videos', 0.6857142857142857, 0.7422666666666667),\n",
       " ('gaming', 0.6452905811623246, 0.7059182624341345),\n",
       " ('gifs', 0.46511627906976744, 0.5294171498321636),\n",
       " ('mildlyinteresting', 0.6015625, 0.6360756537982566),\n",
       " ('MemeEconomy', 0.7850162866449512, 0.8776482600187185)]"
      ]
     },
     "execution_count": 256,
     "metadata": {},
     "output_type": "execute_result"
    }
   ],
   "source": [
    "# Let's take a look at our scores\n",
    "scores"
   ]
  },
  {
   "cell_type": "code",
   "execution_count": 127,
   "metadata": {},
   "outputs": [
    {
     "data": {
      "text/plain": [
       "['news',\n",
       " 'AskReddit',\n",
       " 'worldnews',\n",
       " 'pics',\n",
       " 'funny',\n",
       " 'videos',\n",
       " 'gaming',\n",
       " 'gifs',\n",
       " 'mildlyinteresting',\n",
       " 'MemeEconomy']"
      ]
     },
     "execution_count": 127,
     "metadata": {},
     "output_type": "execute_result"
    }
   ],
   "source": [
    "# Our list of subreddits\n",
    "[x[0] for x in top_coefs]"
   ]
  },
  {
   "cell_type": "markdown",
   "metadata": {},
   "source": [
    "These next two cells I used to collect some interesting positve and negative predictors for the subreddits."
   ]
  },
  {
   "cell_type": "code",
   "execution_count": 154,
   "metadata": {},
   "outputs": [
    {
     "data": {
      "text/html": [
       "<div>\n",
       "<style scoped>\n",
       "    .dataframe tbody tr th:only-of-type {\n",
       "        vertical-align: middle;\n",
       "    }\n",
       "\n",
       "    .dataframe tbody tr th {\n",
       "        vertical-align: top;\n",
       "    }\n",
       "\n",
       "    .dataframe thead th {\n",
       "        text-align: right;\n",
       "    }\n",
       "</style>\n",
       "<table border=\"1\" class=\"dataframe\">\n",
       "  <thead>\n",
       "    <tr style=\"text-align: right;\">\n",
       "      <th></th>\n",
       "      <th>coefs</th>\n",
       "    </tr>\n",
       "  </thead>\n",
       "  <tbody>\n",
       "    <tr>\n",
       "      <th>weekdays_Sunday</th>\n",
       "      <td>1.590249</td>\n",
       "    </tr>\n",
       "    <tr>\n",
       "      <th>weekdays_Monday</th>\n",
       "      <td>1.233647</td>\n",
       "    </tr>\n",
       "    <tr>\n",
       "      <th>weekdays_Tuesday</th>\n",
       "      <td>0.600130</td>\n",
       "    </tr>\n",
       "    <tr>\n",
       "      <th>versatile</th>\n",
       "      <td>0.442704</td>\n",
       "    </tr>\n",
       "    <tr>\n",
       "      <th>high</th>\n",
       "      <td>0.275496</td>\n",
       "    </tr>\n",
       "    <tr>\n",
       "      <th>potential</th>\n",
       "      <td>0.211423</td>\n",
       "    </tr>\n",
       "    <tr>\n",
       "      <th>original</th>\n",
       "      <td>0.184165</td>\n",
       "    </tr>\n",
       "    <tr>\n",
       "      <th>short</th>\n",
       "      <td>0.172233</td>\n",
       "    </tr>\n",
       "    <tr>\n",
       "      <th>hentai</th>\n",
       "      <td>0.166920</td>\n",
       "    </tr>\n",
       "    <tr>\n",
       "      <th>term</th>\n",
       "      <td>0.163317</td>\n",
       "    </tr>\n",
       "    <tr>\n",
       "      <th>invest invest</th>\n",
       "      <td>0.163128</td>\n",
       "    </tr>\n",
       "    <tr>\n",
       "      <th>versatile trendy</th>\n",
       "      <td>0.156160</td>\n",
       "    </tr>\n",
       "    <tr>\n",
       "      <th>trendy</th>\n",
       "      <td>0.156160</td>\n",
       "    </tr>\n",
       "    <tr>\n",
       "      <th>simple versatile trendy</th>\n",
       "      <td>0.156160</td>\n",
       "    </tr>\n",
       "    <tr>\n",
       "      <th>ok</th>\n",
       "      <td>0.149150</td>\n",
       "    </tr>\n",
       "    <tr>\n",
       "      <th>versatile format</th>\n",
       "      <td>0.146977</td>\n",
       "    </tr>\n",
       "    <tr>\n",
       "      <th>simple</th>\n",
       "      <td>0.143858</td>\n",
       "    </tr>\n",
       "    <tr>\n",
       "      <th>high potential</th>\n",
       "      <td>0.143558</td>\n",
       "    </tr>\n",
       "    <tr>\n",
       "      <th>simple versatile</th>\n",
       "      <td>0.137314</td>\n",
       "    </tr>\n",
       "    <tr>\n",
       "      <th>comment</th>\n",
       "      <td>0.136694</td>\n",
       "    </tr>\n",
       "    <tr>\n",
       "      <th>short term</th>\n",
       "      <td>0.133343</td>\n",
       "    </tr>\n",
       "    <tr>\n",
       "      <th>versatile invest</th>\n",
       "      <td>0.131293</td>\n",
       "    </tr>\n",
       "    <tr>\n",
       "      <th>fast</th>\n",
       "      <td>0.126996</td>\n",
       "    </tr>\n",
       "    <tr>\n",
       "      <th>original potential</th>\n",
       "      <td>0.116792</td>\n",
       "    </tr>\n",
       "    <tr>\n",
       "      <th>template comment</th>\n",
       "      <td>0.110459</td>\n",
       "    </tr>\n",
       "  </tbody>\n",
       "</table>\n",
       "</div>"
      ],
      "text/plain": [
       "                            coefs\n",
       "weekdays_Sunday          1.590249\n",
       "weekdays_Monday          1.233647\n",
       "weekdays_Tuesday         0.600130\n",
       "versatile                0.442704\n",
       "high                     0.275496\n",
       "potential                0.211423\n",
       "original                 0.184165\n",
       "short                    0.172233\n",
       "hentai                   0.166920\n",
       "term                     0.163317\n",
       "invest invest            0.163128\n",
       "versatile trendy         0.156160\n",
       "trendy                   0.156160\n",
       "simple versatile trendy  0.156160\n",
       "ok                       0.149150\n",
       "versatile format         0.146977\n",
       "simple                   0.143858\n",
       "high potential           0.143558\n",
       "simple versatile         0.137314\n",
       "comment                  0.136694\n",
       "short term               0.133343\n",
       "versatile invest         0.131293\n",
       "fast                     0.126996\n",
       "original potential       0.116792\n",
       "template comment         0.110459"
      ]
     },
     "execution_count": 154,
     "metadata": {},
     "output_type": "execute_result"
    }
   ],
   "source": [
    "top_coefs[9][1]"
   ]
  },
  {
   "cell_type": "code",
   "execution_count": 155,
   "metadata": {},
   "outputs": [
    {
     "data": {
      "text/html": [
       "<div>\n",
       "<style scoped>\n",
       "    .dataframe tbody tr th:only-of-type {\n",
       "        vertical-align: middle;\n",
       "    }\n",
       "\n",
       "    .dataframe tbody tr th {\n",
       "        vertical-align: top;\n",
       "    }\n",
       "\n",
       "    .dataframe thead th {\n",
       "        text-align: right;\n",
       "    }\n",
       "</style>\n",
       "<table border=\"1\" class=\"dataframe\">\n",
       "  <thead>\n",
       "    <tr style=\"text-align: right;\">\n",
       "      <th></th>\n",
       "      <th>coefs</th>\n",
       "    </tr>\n",
       "  </thead>\n",
       "  <tbody>\n",
       "    <tr>\n",
       "      <th>new</th>\n",
       "      <td>-0.115534</td>\n",
       "    </tr>\n",
       "    <tr>\n",
       "      <th>potential buy</th>\n",
       "      <td>-0.119461</td>\n",
       "    </tr>\n",
       "    <tr>\n",
       "      <th>possible new format</th>\n",
       "      <td>-0.119984</td>\n",
       "    </tr>\n",
       "    <tr>\n",
       "      <th>political</th>\n",
       "      <td>-0.122001</td>\n",
       "    </tr>\n",
       "    <tr>\n",
       "      <th>new format invest</th>\n",
       "      <td>-0.122829</td>\n",
       "    </tr>\n",
       "    <tr>\n",
       "      <th>format return</th>\n",
       "      <td>-0.123696</td>\n",
       "    </tr>\n",
       "    <tr>\n",
       "      <th>love</th>\n",
       "      <td>-0.124025</td>\n",
       "    </tr>\n",
       "    <tr>\n",
       "      <th>like</th>\n",
       "      <td>-0.126516</td>\n",
       "    </tr>\n",
       "    <tr>\n",
       "      <th>profitable</th>\n",
       "      <td>-0.132565</td>\n",
       "    </tr>\n",
       "    <tr>\n",
       "      <th>possible template</th>\n",
       "      <td>-0.134295</td>\n",
       "    </tr>\n",
       "    <tr>\n",
       "      <th>possible format</th>\n",
       "      <td>-0.135602</td>\n",
       "    </tr>\n",
       "    <tr>\n",
       "      <th>is_morning</th>\n",
       "      <td>-0.144852</td>\n",
       "    </tr>\n",
       "    <tr>\n",
       "      <th>irl</th>\n",
       "      <td>-0.152334</td>\n",
       "    </tr>\n",
       "    <tr>\n",
       "      <th>possible</th>\n",
       "      <td>-0.155589</td>\n",
       "    </tr>\n",
       "    <tr>\n",
       "      <th>hot</th>\n",
       "      <td>-0.160148</td>\n",
       "    </tr>\n",
       "    <tr>\n",
       "      <th>rich</th>\n",
       "      <td>-0.172824</td>\n",
       "    </tr>\n",
       "    <tr>\n",
       "      <th>buy</th>\n",
       "      <td>-0.178549</td>\n",
       "    </tr>\n",
       "    <tr>\n",
       "      <th>is_midnight</th>\n",
       "      <td>-0.200455</td>\n",
       "    </tr>\n",
       "    <tr>\n",
       "      <th>new format</th>\n",
       "      <td>-0.201926</td>\n",
       "    </tr>\n",
       "    <tr>\n",
       "      <th>is_evening</th>\n",
       "      <td>-0.206761</td>\n",
       "    </tr>\n",
       "    <tr>\n",
       "      <th>ha</th>\n",
       "      <td>-0.214165</td>\n",
       "    </tr>\n",
       "    <tr>\n",
       "      <th>doe</th>\n",
       "      <td>-0.271021</td>\n",
       "    </tr>\n",
       "    <tr>\n",
       "      <th>weekdays_Wednesday</th>\n",
       "      <td>-0.868990</td>\n",
       "    </tr>\n",
       "    <tr>\n",
       "      <th>weekdays_Thursday</th>\n",
       "      <td>-1.505520</td>\n",
       "    </tr>\n",
       "    <tr>\n",
       "      <th>weekdays_Friday</th>\n",
       "      <td>-1.611609</td>\n",
       "    </tr>\n",
       "  </tbody>\n",
       "</table>\n",
       "</div>"
      ],
      "text/plain": [
       "                        coefs\n",
       "new                 -0.115534\n",
       "potential buy       -0.119461\n",
       "possible new format -0.119984\n",
       "political           -0.122001\n",
       "new format invest   -0.122829\n",
       "format return       -0.123696\n",
       "love                -0.124025\n",
       "like                -0.126516\n",
       "profitable          -0.132565\n",
       "possible template   -0.134295\n",
       "possible format     -0.135602\n",
       "is_morning          -0.144852\n",
       "irl                 -0.152334\n",
       "possible            -0.155589\n",
       "hot                 -0.160148\n",
       "rich                -0.172824\n",
       "buy                 -0.178549\n",
       "is_midnight         -0.200455\n",
       "new format          -0.201926\n",
       "is_evening          -0.206761\n",
       "ha                  -0.214165\n",
       "doe                 -0.271021\n",
       "weekdays_Wednesday  -0.868990\n",
       "weekdays_Thursday   -1.505520\n",
       "weekdays_Friday     -1.611609"
      ]
     },
     "execution_count": 155,
     "metadata": {},
     "output_type": "execute_result"
    }
   ],
   "source": [
    "bottom_coefs[9][1]"
   ]
  },
  {
   "cell_type": "markdown",
   "metadata": {},
   "source": [
    "#### Subreddit analysis Sans Title\n",
    "\n",
    "Since title information introduced more noise than signal to our general reddit analysis, let's see how our RoC scores change if we omit title information.  We'll have to design a slightly different workflow here."
   ]
  },
  {
   "cell_type": "code",
   "execution_count": 96,
   "metadata": {},
   "outputs": [],
   "source": [
    "def get_train_test_features_sans_title(subreddit, percentile):\n",
    "    # Loard csv, drop duplicates\n",
    "    subreddit_df = pd.read_csv(f\"{subreddit}-cumulative.csv\")\n",
    "    subreddit_df = subreddit_df.sort_values(by='num_comments', ascending=False)\n",
    "    subreddit_df = subreddit_df.drop_duplicates(subset='id')\n",
    "    \n",
    "    \n",
    "    # Engineer time features - post age, day-of-week and time-of-day\n",
    "    subreddit_df['age'] = subreddit_df['time_fetched'].astype('datetime64[s]') - subreddit_df['created_utc'].astype('datetime64[s]')\n",
    "\n",
    "    subreddit_df['age_s'] = subreddit_df['age'].astype('timedelta64[s]')\n",
    "    subreddit_df['age_mins'] = subreddit_df['age'].astype('timedelta64[m]')\n",
    "    subreddit_df['age_hrs'] = subreddit_df['age'].astype('timedelta64[h]')\n",
    "\n",
    "    \n",
    "    times = subreddit_df['created_utc'].astype('datetime64[s]')\n",
    "\n",
    "    times = pd.DatetimeIndex(times).tz_localize('UTC').tz_convert('America/Los_Angeles')\n",
    "\n",
    "    hours = (times.strftime('%H')).astype('int')\n",
    "    hours = (times.strftime('%H')).astype('int')\n",
    "    weekdays = pd.DatetimeIndex(np.datetime_as_string(times)).weekday_name\n",
    "    \n",
    "    midnight = [21, 22, 23, 0 ,1, 2]\n",
    "    morning = [3,4,5,6,7,8]\n",
    "    noon = [9,10,11,12,13,14]\n",
    "    evening = [15, 16, 17, 18, 19, 20]\n",
    "\n",
    "    subreddit_df['hours'] = hours\n",
    "    subreddit_df['weekdays'] = weekdays\n",
    "\n",
    "    subreddit_df['is_midnight'] = subreddit_df['hours'].map(lambda x: 1 if x in midnight else 0)\n",
    "    subreddit_df['is_morning'] = subreddit_df['hours'].map(lambda x: 1 if x in morning else 0)\n",
    "    subreddit_df['is_noon'] = subreddit_df['hours'].map(lambda x: 1 if x in noon else 0)\n",
    "    subreddit_df['is_evening'] = subreddit_df['hours'].map(lambda x: 1 if x in evening else 0)\n",
    "    \n",
    "    subreddit_df['target'] = subreddit_df['num_comments'].map(lambda x: 1 if x > subreddit_df['num_comments'].quantile(percentile) else 0)\n",
    "    \n",
    "    \n",
    "    # Collect our features\n",
    "    features = ['age_hrs', 'is_midnight', 'is_morning', 'is_noon', 'is_evening','weekdays']\n",
    "    X = subreddit_df[features]\n",
    "    y = subreddit_df['target']\n",
    "    \n",
    "    X_train, X_test, y_train, y_test = train_test_split(X,y)\n",
    "\n",
    "    X_train = pd.get_dummies(X_train, columns = ['weekdays'])\n",
    "    X_test = pd.get_dummies(X_test, columns = ['weekdays'])\n",
    "\n",
    "    X_train, X_test = leveller(X_train, X_test)\n",
    "    \n",
    "    return X_train, X_test, y_train, y_test"
   ]
  },
  {
   "cell_type": "code",
   "execution_count": 98,
   "metadata": {},
   "outputs": [],
   "source": [
    "# Get our scores\n",
    "top_coefs_sans_title = []\n",
    "bottom_coefs_sans_title = []\n",
    "scores_sans_title = []\n",
    "for subreddit in top_subreddits:\n",
    "    x1, x2, y1, y2 = get_train_test_features_sans_title(subreddit, 0.5)\n",
    "    coefs, acc, roc = get_top_log_coefs(x1, x2,y1, y2)\n",
    "    sort = coefs.T.sort_values(by='coefs', ascending=False)\n",
    "    top_coefs_sans_title.append((subreddit,sort.head(25)))\n",
    "    bottom_coefs_sans_title.append((subreddit, sort.tail(25)))\n",
    "    scores_sans_title.append((subreddit, acc, roc))"
   ]
  },
  {
   "cell_type": "code",
   "execution_count": 105,
   "metadata": {},
   "outputs": [],
   "source": [
    "# MAke some dataframes so the data will be readable\n",
    "titles = pd.DataFrame(scores, columns = ['subreddit', 'accuracy', 'AuC-RoC score'])\n",
    "no_titles = pd.DataFrame(scores_sans_title, columns = ['subreddit', 'accuracy', 'AuC-RoC score'])"
   ]
  },
  {
   "cell_type": "code",
   "execution_count": null,
   "metadata": {},
   "outputs": [],
   "source": [
    "titles.columns = ['subreddit', 't_accuracy', 't_AuC-RoC score']"
   ]
  },
  {
   "cell_type": "code",
   "execution_count": 258,
   "metadata": {},
   "outputs": [
    {
     "data": {
      "text/html": [
       "<div>\n",
       "<style scoped>\n",
       "    .dataframe tbody tr th:only-of-type {\n",
       "        vertical-align: middle;\n",
       "    }\n",
       "\n",
       "    .dataframe tbody tr th {\n",
       "        vertical-align: top;\n",
       "    }\n",
       "\n",
       "    .dataframe thead th {\n",
       "        text-align: right;\n",
       "    }\n",
       "</style>\n",
       "<table border=\"1\" class=\"dataframe\">\n",
       "  <thead>\n",
       "    <tr style=\"text-align: right;\">\n",
       "      <th></th>\n",
       "      <th>subreddit</th>\n",
       "      <th>accuracy</th>\n",
       "      <th>AuC-RoC score</th>\n",
       "    </tr>\n",
       "  </thead>\n",
       "  <tbody>\n",
       "    <tr>\n",
       "      <th>0</th>\n",
       "      <td>news</td>\n",
       "      <td>0.653846</td>\n",
       "      <td>0.691030</td>\n",
       "    </tr>\n",
       "    <tr>\n",
       "      <th>1</th>\n",
       "      <td>AskReddit</td>\n",
       "      <td>0.696429</td>\n",
       "      <td>0.750789</td>\n",
       "    </tr>\n",
       "    <tr>\n",
       "      <th>2</th>\n",
       "      <td>worldnews</td>\n",
       "      <td>0.582583</td>\n",
       "      <td>0.626079</td>\n",
       "    </tr>\n",
       "    <tr>\n",
       "      <th>3</th>\n",
       "      <td>pics</td>\n",
       "      <td>0.605136</td>\n",
       "      <td>0.616449</td>\n",
       "    </tr>\n",
       "    <tr>\n",
       "      <th>4</th>\n",
       "      <td>funny</td>\n",
       "      <td>0.679510</td>\n",
       "      <td>0.746601</td>\n",
       "    </tr>\n",
       "    <tr>\n",
       "      <th>5</th>\n",
       "      <td>videos</td>\n",
       "      <td>0.691429</td>\n",
       "      <td>0.721066</td>\n",
       "    </tr>\n",
       "    <tr>\n",
       "      <th>6</th>\n",
       "      <td>gaming</td>\n",
       "      <td>0.627255</td>\n",
       "      <td>0.670900</td>\n",
       "    </tr>\n",
       "    <tr>\n",
       "      <th>7</th>\n",
       "      <td>gifs</td>\n",
       "      <td>0.534884</td>\n",
       "      <td>0.562421</td>\n",
       "    </tr>\n",
       "    <tr>\n",
       "      <th>8</th>\n",
       "      <td>mildlyinteresting</td>\n",
       "      <td>0.609375</td>\n",
       "      <td>0.568483</td>\n",
       "    </tr>\n",
       "    <tr>\n",
       "      <th>9</th>\n",
       "      <td>MemeEconomy</td>\n",
       "      <td>0.755700</td>\n",
       "      <td>0.835041</td>\n",
       "    </tr>\n",
       "  </tbody>\n",
       "</table>\n",
       "</div>"
      ],
      "text/plain": [
       "           subreddit  accuracy  AuC-RoC score\n",
       "0               news  0.653846       0.691030\n",
       "1          AskReddit  0.696429       0.750789\n",
       "2          worldnews  0.582583       0.626079\n",
       "3               pics  0.605136       0.616449\n",
       "4              funny  0.679510       0.746601\n",
       "5             videos  0.691429       0.721066\n",
       "6             gaming  0.627255       0.670900\n",
       "7               gifs  0.534884       0.562421\n",
       "8  mildlyinteresting  0.609375       0.568483\n",
       "9        MemeEconomy  0.755700       0.835041"
      ]
     },
     "execution_count": 258,
     "metadata": {},
     "output_type": "execute_result"
    }
   ],
   "source": [
    "no_titles"
   ]
  },
  {
   "cell_type": "markdown",
   "metadata": {},
   "source": [
    "Looks like Accuracy and AuC-RoC scores are generally higher with title information.  "
   ]
  },
  {
   "cell_type": "code",
   "execution_count": 111,
   "metadata": {},
   "outputs": [
    {
     "data": {
      "text/plain": [
       "0                 news\n",
       "1            AskReddit\n",
       "2            worldnews\n",
       "3                 pics\n",
       "5               videos\n",
       "6               gaming\n",
       "8    mildlyinteresting\n",
       "9          MemeEconomy\n",
       "Name: subreddit, dtype: object"
      ]
     },
     "execution_count": 111,
     "metadata": {},
     "output_type": "execute_result"
    }
   ],
   "source": [
    "# These are the features for which adding title information improved the AuC-RoC score\n",
    "titles['subreddit'][(titles['AuC-RoC score'] - no_titles['AuC-RoC score'])>0]"
   ]
  },
  {
   "cell_type": "code",
   "execution_count": 112,
   "metadata": {},
   "outputs": [
    {
     "data": {
      "text/plain": [
       "4    funny\n",
       "7     gifs\n",
       "Name: subreddit, dtype: object"
      ]
     },
     "execution_count": 112,
     "metadata": {},
     "output_type": "execute_result"
    }
   ],
   "source": [
    "# These are the features for which adding title information worsened the AuC-RoC score\n",
    "titles['subreddit'][(titles['AuC-RoC score'] - no_titles['AuC-RoC score'])<0]"
   ]
  },
  {
   "cell_type": "code",
   "execution_count": 310,
   "metadata": {},
   "outputs": [],
   "source": [
    "# Load our roc score information into a single dataframe to make visualization easier\n",
    "data = pd.concat([titles,no_titles.drop('subreddit', axis=1)],join='inner', axis=1)\n",
    "data['pos'] = ((data['t_AuC-RoC score'] - data['AuC-RoC score'])>0).astype(int)\n",
    "data['diff'] = data['t_AuC-RoC score'] - data['AuC-RoC score']"
   ]
  },
  {
   "cell_type": "code",
   "execution_count": 347,
   "metadata": {},
   "outputs": [
    {
     "data": {
      "image/png": "[encoded data removed]",
      "text/plain": [
       "<matplotlib.figure.Figure at 0x1a660f6ac8>"
      ]
     },
     "metadata": {},
     "output_type": "display_data"
    }
   ],
   "source": [
    "# Visualize which subreddits benefit from analyzing titles\n",
    "import matplotlib.patches as mpatches\n",
    "\n",
    "\n",
    "\n",
    "plt.figure(figsize = (12,10))\n",
    "ax = plt.gca()\n",
    "colors = ['green' if _y ==1 else 'red' for _y in data['pos']]\n",
    "\n",
    "g = sns.barplot(data.index, data['t_AuC-RoC score'] - data['AuC-RoC score'],data=data, palette = colors)\n",
    "ax.set_xticks(data.index)\n",
    "ax.set_xticklabels(data['subreddit'])\n",
    "for item in g.get_xticklabels():\n",
    "    item.set_rotation(20)\n",
    "sns.despine()\n",
    "plt.title(\"Does Title data improve AuC-RoC score?\")\n",
    "red_patch = mpatches.Patch(color='red', label='No')\n",
    "green_patch = mpatches.Patch(color = 'green', label = 'Yes')\n",
    "plt.legend(handles=[green_patch,red_patch])\n",
    "plt.show()"
   ]
  },
  {
   "cell_type": "markdown",
   "metadata": {},
   "source": [
    "Intersting results here.  Intuitively it makes sense that image/video content would drive the number of comments in subreddits like *videos*, *gifs*, and *pics*, which suggests that the title doesn't tell the whole story.  Title information was damaging to the model for *funny* and *gifs*, but helpful for *videos* and *pics*.  We might conclude from this that *videos* and *pics* encourage a stronger connection between the content of a post and its title.  It also makes sense that title information would be less important in *funny*, since a title will be chosen for the purpose of being funny rather than descriptive *per se*."
   ]
  }
 ],
 "metadata": {
  "anaconda-cloud": {},
  "kernelspec": {
   "display_name": "Python 3",
   "language": "python",
   "name": "python3"
  },
  "language_info": {
   "codemirror_mode": {
    "name": "ipython",
    "version": 3
   },
   "file_extension": ".py",
   "mimetype": "text/x-python",
   "name": "python",
   "nbconvert_exporter": "python",
   "pygments_lexer": "ipython3",
   "version": "3.6.4"
  },
  "varInspector": {
   "cols": {
    "lenName": 16,
    "lenType": 16,
    "lenVar": 40
   },
   "kernels_config": {
    "python": {
     "delete_cmd_postfix": "",
     "delete_cmd_prefix": "del ",
     "library": "var_list.py",
     "varRefreshCmd": "print(var_dic_list())"
    },
    "r": {
     "delete_cmd_postfix": ") ",
     "delete_cmd_prefix": "rm(",
     "library": "var_list.r",
     "varRefreshCmd": "cat(var_dic_list()) "
    }
   },
   "types_to_exclude": [
    "module",
    "function",
    "builtin_function_or_method",
    "instance",
    "_Feature"
   ],
   "window_display": false
  }
 },
 "nbformat": 4,
 "nbformat_minor": 1
}
